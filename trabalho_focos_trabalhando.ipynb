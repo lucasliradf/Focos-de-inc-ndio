{
 "cells": [
  {
   "cell_type": "markdown",
   "id": "c74c4622",
   "metadata": {
    "ExecuteTime": {
     "end_time": "2023-03-06T15:29:01.406469Z",
     "start_time": "2023-03-06T15:29:01.384527Z"
    }
   },
   "source": [
    "Utilizando a base de dados do inpe, vamos realizar algumas análises sobre queimadas\n",
    "https://queimadas.dgi.inpe.br/~rqueimadas/documentos/\n",
    "\n",
    "1 - série histórica do ano de 2022, quais meses de maiores focos\n",
    "\n",
    "2 - áreas mais afetadas \n",
    "\n",
    "3 - análise dos fatores ambientais, como precipitação e dias sem chuva\n",
    "\n",
    "inicialmente realizando as análises com o satélite de referencia, o 'AQUA_M-T'"
   ]
  },
  {
   "cell_type": "code",
   "execution_count": 1,
   "id": "5c918015",
   "metadata": {
    "ExecuteTime": {
     "end_time": "2023-05-01T13:26:17.418451Z",
     "start_time": "2023-05-01T13:25:42.489320Z"
    }
   },
   "outputs": [],
   "source": [
    "import pandas as pd\n",
    "import numpy as np \n",
    "import seaborn as sns\n",
    "import matplotlib.pyplot as plt"
   ]
  },
  {
   "cell_type": "code",
   "execution_count": 3,
   "id": "a487717d",
   "metadata": {
    "ExecuteTime": {
     "end_time": "2023-05-01T13:26:48.685176Z",
     "start_time": "2023-05-01T13:26:44.130478Z"
    }
   },
   "outputs": [
    {
     "data": {
      "text/html": [
       "<div>\n",
       "<style scoped>\n",
       "    .dataframe tbody tr th:only-of-type {\n",
       "        vertical-align: middle;\n",
       "    }\n",
       "\n",
       "    .dataframe tbody tr th {\n",
       "        vertical-align: top;\n",
       "    }\n",
       "\n",
       "    .dataframe thead th {\n",
       "        text-align: right;\n",
       "    }\n",
       "</style>\n",
       "<table border=\"1\" class=\"dataframe\">\n",
       "  <thead>\n",
       "    <tr style=\"text-align: right;\">\n",
       "      <th></th>\n",
       "      <th>datahora</th>\n",
       "      <th>satelite</th>\n",
       "      <th>pais</th>\n",
       "      <th>estado</th>\n",
       "      <th>municipio</th>\n",
       "      <th>bioma</th>\n",
       "      <th>diasemchuva</th>\n",
       "      <th>precipitacao</th>\n",
       "      <th>riscofogo</th>\n",
       "      <th>latitude</th>\n",
       "      <th>longitude</th>\n",
       "      <th>frp</th>\n",
       "    </tr>\n",
       "  </thead>\n",
       "  <tbody>\n",
       "    <tr>\n",
       "      <th>0</th>\n",
       "      <td>2022/09/11 04:19:00</td>\n",
       "      <td>NOAA-20</td>\n",
       "      <td>Brasil</td>\n",
       "      <td>PIAUI</td>\n",
       "      <td>URUCUI</td>\n",
       "      <td>Cerrado</td>\n",
       "      <td>28.0</td>\n",
       "      <td>0.0</td>\n",
       "      <td>1.0</td>\n",
       "      <td>-7.45158</td>\n",
       "      <td>-44.46713</td>\n",
       "      <td>2.2</td>\n",
       "    </tr>\n",
       "    <tr>\n",
       "      <th>1</th>\n",
       "      <td>2022/09/11 04:19:00</td>\n",
       "      <td>NOAA-20</td>\n",
       "      <td>Brasil</td>\n",
       "      <td>PIAUI</td>\n",
       "      <td>URUCUI</td>\n",
       "      <td>Cerrado</td>\n",
       "      <td>27.0</td>\n",
       "      <td>0.0</td>\n",
       "      <td>1.0</td>\n",
       "      <td>-7.45103</td>\n",
       "      <td>-44.47060</td>\n",
       "      <td>2.6</td>\n",
       "    </tr>\n",
       "    <tr>\n",
       "      <th>2</th>\n",
       "      <td>2022/09/11 04:19:00</td>\n",
       "      <td>NOAA-20</td>\n",
       "      <td>Brasil</td>\n",
       "      <td>PIAUI</td>\n",
       "      <td>URUCUI</td>\n",
       "      <td>Cerrado</td>\n",
       "      <td>59.0</td>\n",
       "      <td>0.0</td>\n",
       "      <td>1.0</td>\n",
       "      <td>-7.44864</td>\n",
       "      <td>-44.39903</td>\n",
       "      <td>1.8</td>\n",
       "    </tr>\n",
       "    <tr>\n",
       "      <th>3</th>\n",
       "      <td>2022/09/11 04:19:00</td>\n",
       "      <td>NOAA-20</td>\n",
       "      <td>Brasil</td>\n",
       "      <td>PIAUI</td>\n",
       "      <td>URUCUI</td>\n",
       "      <td>Cerrado</td>\n",
       "      <td>59.0</td>\n",
       "      <td>0.0</td>\n",
       "      <td>1.0</td>\n",
       "      <td>-7.44533</td>\n",
       "      <td>-44.39851</td>\n",
       "      <td>1.2</td>\n",
       "    </tr>\n",
       "    <tr>\n",
       "      <th>4</th>\n",
       "      <td>2022/09/11 04:19:00</td>\n",
       "      <td>NOAA-20</td>\n",
       "      <td>Brasil</td>\n",
       "      <td>PIAUI</td>\n",
       "      <td>URUCUI</td>\n",
       "      <td>Cerrado</td>\n",
       "      <td>75.0</td>\n",
       "      <td>0.0</td>\n",
       "      <td>1.0</td>\n",
       "      <td>-7.43312</td>\n",
       "      <td>-44.82275</td>\n",
       "      <td>2.6</td>\n",
       "    </tr>\n",
       "    <tr>\n",
       "      <th>5</th>\n",
       "      <td>2022/09/11 04:19:00</td>\n",
       "      <td>NOAA-20</td>\n",
       "      <td>Brasil</td>\n",
       "      <td>PIAUI</td>\n",
       "      <td>SEBASTIAO LEAL</td>\n",
       "      <td>Cerrado</td>\n",
       "      <td>89.0</td>\n",
       "      <td>0.0</td>\n",
       "      <td>1.0</td>\n",
       "      <td>-7.35500</td>\n",
       "      <td>-44.28152</td>\n",
       "      <td>1.5</td>\n",
       "    </tr>\n",
       "    <tr>\n",
       "      <th>6</th>\n",
       "      <td>2022/09/11 04:19:00</td>\n",
       "      <td>NOAA-20</td>\n",
       "      <td>Brasil</td>\n",
       "      <td>PIAUI</td>\n",
       "      <td>URUCUI</td>\n",
       "      <td>Cerrado</td>\n",
       "      <td>28.0</td>\n",
       "      <td>0.0</td>\n",
       "      <td>1.0</td>\n",
       "      <td>-7.24448</td>\n",
       "      <td>-44.48819</td>\n",
       "      <td>2.2</td>\n",
       "    </tr>\n",
       "    <tr>\n",
       "      <th>7</th>\n",
       "      <td>2022/09/11 04:19:00</td>\n",
       "      <td>NOAA-20</td>\n",
       "      <td>Brasil</td>\n",
       "      <td>MARANHAO</td>\n",
       "      <td>BENEDITO LEITE</td>\n",
       "      <td>Cerrado</td>\n",
       "      <td>79.0</td>\n",
       "      <td>0.0</td>\n",
       "      <td>1.0</td>\n",
       "      <td>-7.26667</td>\n",
       "      <td>-44.65174</td>\n",
       "      <td>3.4</td>\n",
       "    </tr>\n",
       "    <tr>\n",
       "      <th>8</th>\n",
       "      <td>2022/09/11 04:19:00</td>\n",
       "      <td>NOAA-20</td>\n",
       "      <td>Brasil</td>\n",
       "      <td>MARANHAO</td>\n",
       "      <td>SAO FELIX DE BALSAS</td>\n",
       "      <td>Cerrado</td>\n",
       "      <td>81.0</td>\n",
       "      <td>0.0</td>\n",
       "      <td>1.0</td>\n",
       "      <td>-7.21225</td>\n",
       "      <td>-44.84483</td>\n",
       "      <td>3.9</td>\n",
       "    </tr>\n",
       "    <tr>\n",
       "      <th>9</th>\n",
       "      <td>2022/09/11 04:19:00</td>\n",
       "      <td>NOAA-20</td>\n",
       "      <td>Brasil</td>\n",
       "      <td>MARANHAO</td>\n",
       "      <td>SAO FELIX DE BALSAS</td>\n",
       "      <td>Cerrado</td>\n",
       "      <td>78.0</td>\n",
       "      <td>0.0</td>\n",
       "      <td>1.0</td>\n",
       "      <td>-7.20840</td>\n",
       "      <td>-44.84777</td>\n",
       "      <td>3.9</td>\n",
       "    </tr>\n",
       "  </tbody>\n",
       "</table>\n",
       "</div>"
      ],
      "text/plain": [
       "              datahora satelite    pais    estado            municipio  \\\n",
       "0  2022/09/11 04:19:00  NOAA-20  Brasil     PIAUI               URUCUI   \n",
       "1  2022/09/11 04:19:00  NOAA-20  Brasil     PIAUI               URUCUI   \n",
       "2  2022/09/11 04:19:00  NOAA-20  Brasil     PIAUI               URUCUI   \n",
       "3  2022/09/11 04:19:00  NOAA-20  Brasil     PIAUI               URUCUI   \n",
       "4  2022/09/11 04:19:00  NOAA-20  Brasil     PIAUI               URUCUI   \n",
       "5  2022/09/11 04:19:00  NOAA-20  Brasil     PIAUI       SEBASTIAO LEAL   \n",
       "6  2022/09/11 04:19:00  NOAA-20  Brasil     PIAUI               URUCUI   \n",
       "7  2022/09/11 04:19:00  NOAA-20  Brasil  MARANHAO       BENEDITO LEITE   \n",
       "8  2022/09/11 04:19:00  NOAA-20  Brasil  MARANHAO  SAO FELIX DE BALSAS   \n",
       "9  2022/09/11 04:19:00  NOAA-20  Brasil  MARANHAO  SAO FELIX DE BALSAS   \n",
       "\n",
       "     bioma  diasemchuva  precipitacao  riscofogo  latitude  longitude  frp  \n",
       "0  Cerrado         28.0           0.0        1.0  -7.45158  -44.46713  2.2  \n",
       "1  Cerrado         27.0           0.0        1.0  -7.45103  -44.47060  2.6  \n",
       "2  Cerrado         59.0           0.0        1.0  -7.44864  -44.39903  1.8  \n",
       "3  Cerrado         59.0           0.0        1.0  -7.44533  -44.39851  1.2  \n",
       "4  Cerrado         75.0           0.0        1.0  -7.43312  -44.82275  2.6  \n",
       "5  Cerrado         89.0           0.0        1.0  -7.35500  -44.28152  1.5  \n",
       "6  Cerrado         28.0           0.0        1.0  -7.24448  -44.48819  2.2  \n",
       "7  Cerrado         79.0           0.0        1.0  -7.26667  -44.65174  3.4  \n",
       "8  Cerrado         81.0           0.0        1.0  -7.21225  -44.84483  3.9  \n",
       "9  Cerrado         78.0           0.0        1.0  -7.20840  -44.84777  3.9  "
      ]
     },
     "execution_count": 3,
     "metadata": {},
     "output_type": "execute_result"
    }
   ],
   "source": [
    "df = pd.read_csv(f'Focos_2022-01-01_2023-01-01.csv')\n",
    "df.head(10)\n"
   ]
  },
  {
   "cell_type": "code",
   "execution_count": 4,
   "id": "e7d43f3b",
   "metadata": {
    "ExecuteTime": {
     "end_time": "2023-05-01T13:27:09.354510Z",
     "start_time": "2023-05-01T13:27:08.251819Z"
    }
   },
   "outputs": [
    {
     "name": "stdout",
     "output_type": "stream",
     "text": [
      "<class 'pandas.core.frame.DataFrame'>\n",
      "RangeIndex: 1462901 entries, 0 to 1462900\n",
      "Data columns (total 12 columns):\n",
      " #   Column        Non-Null Count    Dtype  \n",
      "---  ------        --------------    -----  \n",
      " 0   datahora      1462901 non-null  object \n",
      " 1   satelite      1462901 non-null  object \n",
      " 2   pais          1462901 non-null  object \n",
      " 3   estado        1462901 non-null  object \n",
      " 4   municipio     1462901 non-null  object \n",
      " 5   bioma         1462901 non-null  object \n",
      " 6   diasemchuva   1417819 non-null  float64\n",
      " 7   precipitacao  1417819 non-null  float64\n",
      " 8   riscofogo     1417819 non-null  float64\n",
      " 9   latitude      1462901 non-null  float64\n",
      " 10  longitude     1462901 non-null  float64\n",
      " 11  frp           1257010 non-null  float64\n",
      "dtypes: float64(6), object(6)\n",
      "memory usage: 133.9+ MB\n",
      "None\n"
     ]
    }
   ],
   "source": [
    "print(df.info())"
   ]
  },
  {
   "cell_type": "code",
   "execution_count": 77,
   "id": "54520a14",
   "metadata": {
    "ExecuteTime": {
     "end_time": "2023-05-01T14:29:27.270869Z",
     "start_time": "2023-05-01T14:29:27.131342Z"
    }
   },
   "outputs": [
    {
     "data": {
      "text/plain": [
       "satelite\n",
       "NOAA-20      435201\n",
       "GOES-16      415578\n",
       "NPP-375      266563\n",
       "NPP-375D     121104\n",
       "AQUA_M-T      53956\n",
       "TERRA_M-T     32178\n",
       "NOAA-19       20282\n",
       "TERRA_M-M     15964\n",
       "NOAA-18D      10739\n",
       "AQUA_M-M       7580\n",
       "MSG-03         7536\n",
       "NOAA-18        3219\n",
       "METOP-B        2686\n",
       "NOAA-19D       2149\n",
       "METOP-C        1976\n",
       "dtype: int64"
      ]
     },
     "execution_count": 77,
     "metadata": {},
     "output_type": "execute_result"
    }
   ],
   "source": [
    "df.value_counts('satelite')"
   ]
  },
  {
   "cell_type": "code",
   "execution_count": 85,
   "id": "1c175032",
   "metadata": {
    "ExecuteTime": {
     "end_time": "2023-05-01T14:38:40.360889Z",
     "start_time": "2023-05-01T14:38:40.137961Z"
    }
   },
   "outputs": [
    {
     "data": {
      "text/html": [
       "<div>\n",
       "<style scoped>\n",
       "    .dataframe tbody tr th:only-of-type {\n",
       "        vertical-align: middle;\n",
       "    }\n",
       "\n",
       "    .dataframe tbody tr th {\n",
       "        vertical-align: top;\n",
       "    }\n",
       "\n",
       "    .dataframe thead th {\n",
       "        text-align: right;\n",
       "    }\n",
       "</style>\n",
       "<table border=\"1\" class=\"dataframe\">\n",
       "  <thead>\n",
       "    <tr style=\"text-align: right;\">\n",
       "      <th></th>\n",
       "      <th>datahora</th>\n",
       "      <th>satelite</th>\n",
       "      <th>pais</th>\n",
       "      <th>estado</th>\n",
       "      <th>municipio</th>\n",
       "      <th>bioma</th>\n",
       "      <th>diasemchuva</th>\n",
       "      <th>precipitacao</th>\n",
       "      <th>riscofogo</th>\n",
       "      <th>latitude</th>\n",
       "      <th>longitude</th>\n",
       "      <th>frp</th>\n",
       "    </tr>\n",
       "  </thead>\n",
       "  <tbody>\n",
       "    <tr>\n",
       "      <th>6086</th>\n",
       "      <td>2022/09/11 17:09:00</td>\n",
       "      <td>AQUA_M-T</td>\n",
       "      <td>Brasil</td>\n",
       "      <td>MATO GROSSO</td>\n",
       "      <td>LUCIARA</td>\n",
       "      <td>Cerrado</td>\n",
       "      <td>119.0</td>\n",
       "      <td>0.0</td>\n",
       "      <td>1.0</td>\n",
       "      <td>-11.03418</td>\n",
       "      <td>-51.13377</td>\n",
       "      <td>44.6</td>\n",
       "    </tr>\n",
       "    <tr>\n",
       "      <th>6087</th>\n",
       "      <td>2022/09/11 17:09:00</td>\n",
       "      <td>AQUA_M-T</td>\n",
       "      <td>Brasil</td>\n",
       "      <td>MATO GROSSO</td>\n",
       "      <td>SAO FELIX DO ARAGUAIA</td>\n",
       "      <td>Cerrado</td>\n",
       "      <td>119.0</td>\n",
       "      <td>0.0</td>\n",
       "      <td>1.0</td>\n",
       "      <td>-11.28284</td>\n",
       "      <td>-51.46022</td>\n",
       "      <td>15.6</td>\n",
       "    </tr>\n",
       "    <tr>\n",
       "      <th>6088</th>\n",
       "      <td>2022/09/11 17:09:00</td>\n",
       "      <td>AQUA_M-T</td>\n",
       "      <td>Brasil</td>\n",
       "      <td>MARANHAO</td>\n",
       "      <td>CAROLINA</td>\n",
       "      <td>Cerrado</td>\n",
       "      <td>89.0</td>\n",
       "      <td>0.0</td>\n",
       "      <td>1.0</td>\n",
       "      <td>-7.21349</td>\n",
       "      <td>-47.36106</td>\n",
       "      <td>25.4</td>\n",
       "    </tr>\n",
       "    <tr>\n",
       "      <th>6089</th>\n",
       "      <td>2022/09/11 17:09:00</td>\n",
       "      <td>AQUA_M-T</td>\n",
       "      <td>Brasil</td>\n",
       "      <td>MATO GROSSO</td>\n",
       "      <td>LUCIARA</td>\n",
       "      <td>Cerrado</td>\n",
       "      <td>119.0</td>\n",
       "      <td>0.0</td>\n",
       "      <td>1.0</td>\n",
       "      <td>-10.74953</td>\n",
       "      <td>-50.62254</td>\n",
       "      <td>65.9</td>\n",
       "    </tr>\n",
       "    <tr>\n",
       "      <th>6090</th>\n",
       "      <td>2022/09/11 17:09:00</td>\n",
       "      <td>AQUA_M-T</td>\n",
       "      <td>Brasil</td>\n",
       "      <td>MARANHAO</td>\n",
       "      <td>BALSAS</td>\n",
       "      <td>Cerrado</td>\n",
       "      <td>65.0</td>\n",
       "      <td>0.0</td>\n",
       "      <td>1.0</td>\n",
       "      <td>-7.40185</td>\n",
       "      <td>-45.90119</td>\n",
       "      <td>54.6</td>\n",
       "    </tr>\n",
       "    <tr>\n",
       "      <th>...</th>\n",
       "      <td>...</td>\n",
       "      <td>...</td>\n",
       "      <td>...</td>\n",
       "      <td>...</td>\n",
       "      <td>...</td>\n",
       "      <td>...</td>\n",
       "      <td>...</td>\n",
       "      <td>...</td>\n",
       "      <td>...</td>\n",
       "      <td>...</td>\n",
       "      <td>...</td>\n",
       "      <td>...</td>\n",
       "    </tr>\n",
       "    <tr>\n",
       "      <th>1449644</th>\n",
       "      <td>2022/09/10 18:04:00</td>\n",
       "      <td>AQUA_M-T</td>\n",
       "      <td>Brasil</td>\n",
       "      <td>MATO GROSSO</td>\n",
       "      <td>NOBRES</td>\n",
       "      <td>Cerrado</td>\n",
       "      <td>22.0</td>\n",
       "      <td>0.0</td>\n",
       "      <td>1.0</td>\n",
       "      <td>-14.63001</td>\n",
       "      <td>-56.28065</td>\n",
       "      <td>126.2</td>\n",
       "    </tr>\n",
       "    <tr>\n",
       "      <th>1449645</th>\n",
       "      <td>2022/09/10 18:04:00</td>\n",
       "      <td>AQUA_M-T</td>\n",
       "      <td>Brasil</td>\n",
       "      <td>MATO GROSSO</td>\n",
       "      <td>NOBRES</td>\n",
       "      <td>Cerrado</td>\n",
       "      <td>22.0</td>\n",
       "      <td>0.0</td>\n",
       "      <td>1.0</td>\n",
       "      <td>-14.63426</td>\n",
       "      <td>-56.30448</td>\n",
       "      <td>106.6</td>\n",
       "    </tr>\n",
       "    <tr>\n",
       "      <th>1449646</th>\n",
       "      <td>2022/09/10 18:04:00</td>\n",
       "      <td>AQUA_M-T</td>\n",
       "      <td>Brasil</td>\n",
       "      <td>MATO GROSSO</td>\n",
       "      <td>CHAPADA DOS GUIMARAES</td>\n",
       "      <td>Cerrado</td>\n",
       "      <td>22.0</td>\n",
       "      <td>0.0</td>\n",
       "      <td>1.0</td>\n",
       "      <td>-14.97996</td>\n",
       "      <td>-55.93599</td>\n",
       "      <td>29.1</td>\n",
       "    </tr>\n",
       "    <tr>\n",
       "      <th>1449647</th>\n",
       "      <td>2022/09/10 18:04:00</td>\n",
       "      <td>AQUA_M-T</td>\n",
       "      <td>Brasil</td>\n",
       "      <td>MATO GROSSO</td>\n",
       "      <td>ROSARIO OESTE</td>\n",
       "      <td>Cerrado</td>\n",
       "      <td>22.0</td>\n",
       "      <td>0.0</td>\n",
       "      <td>1.0</td>\n",
       "      <td>-14.98426</td>\n",
       "      <td>-55.96035</td>\n",
       "      <td>23.6</td>\n",
       "    </tr>\n",
       "    <tr>\n",
       "      <th>1449648</th>\n",
       "      <td>2022/09/10 18:02:00</td>\n",
       "      <td>AQUA_M-T</td>\n",
       "      <td>Brasil</td>\n",
       "      <td>MATO GROSSO DO SUL</td>\n",
       "      <td>PORTO MURTINHO</td>\n",
       "      <td>Cerrado</td>\n",
       "      <td>4.0</td>\n",
       "      <td>0.1</td>\n",
       "      <td>1.0</td>\n",
       "      <td>-20.74054</td>\n",
       "      <td>-57.45909</td>\n",
       "      <td>39.3</td>\n",
       "    </tr>\n",
       "  </tbody>\n",
       "</table>\n",
       "<p>53956 rows × 12 columns</p>\n",
       "</div>"
      ],
      "text/plain": [
       "                    datahora  satelite    pais              estado  \\\n",
       "6086     2022/09/11 17:09:00  AQUA_M-T  Brasil         MATO GROSSO   \n",
       "6087     2022/09/11 17:09:00  AQUA_M-T  Brasil         MATO GROSSO   \n",
       "6088     2022/09/11 17:09:00  AQUA_M-T  Brasil            MARANHAO   \n",
       "6089     2022/09/11 17:09:00  AQUA_M-T  Brasil         MATO GROSSO   \n",
       "6090     2022/09/11 17:09:00  AQUA_M-T  Brasil            MARANHAO   \n",
       "...                      ...       ...     ...                 ...   \n",
       "1449644  2022/09/10 18:04:00  AQUA_M-T  Brasil         MATO GROSSO   \n",
       "1449645  2022/09/10 18:04:00  AQUA_M-T  Brasil         MATO GROSSO   \n",
       "1449646  2022/09/10 18:04:00  AQUA_M-T  Brasil         MATO GROSSO   \n",
       "1449647  2022/09/10 18:04:00  AQUA_M-T  Brasil         MATO GROSSO   \n",
       "1449648  2022/09/10 18:02:00  AQUA_M-T  Brasil  MATO GROSSO DO SUL   \n",
       "\n",
       "                     municipio    bioma  diasemchuva  precipitacao  riscofogo  \\\n",
       "6086                   LUCIARA  Cerrado        119.0           0.0        1.0   \n",
       "6087     SAO FELIX DO ARAGUAIA  Cerrado        119.0           0.0        1.0   \n",
       "6088                  CAROLINA  Cerrado         89.0           0.0        1.0   \n",
       "6089                   LUCIARA  Cerrado        119.0           0.0        1.0   \n",
       "6090                    BALSAS  Cerrado         65.0           0.0        1.0   \n",
       "...                        ...      ...          ...           ...        ...   \n",
       "1449644                 NOBRES  Cerrado         22.0           0.0        1.0   \n",
       "1449645                 NOBRES  Cerrado         22.0           0.0        1.0   \n",
       "1449646  CHAPADA DOS GUIMARAES  Cerrado         22.0           0.0        1.0   \n",
       "1449647          ROSARIO OESTE  Cerrado         22.0           0.0        1.0   \n",
       "1449648         PORTO MURTINHO  Cerrado          4.0           0.1        1.0   \n",
       "\n",
       "         latitude  longitude    frp  \n",
       "6086    -11.03418  -51.13377   44.6  \n",
       "6087    -11.28284  -51.46022   15.6  \n",
       "6088     -7.21349  -47.36106   25.4  \n",
       "6089    -10.74953  -50.62254   65.9  \n",
       "6090     -7.40185  -45.90119   54.6  \n",
       "...           ...        ...    ...  \n",
       "1449644 -14.63001  -56.28065  126.2  \n",
       "1449645 -14.63426  -56.30448  106.6  \n",
       "1449646 -14.97996  -55.93599   29.1  \n",
       "1449647 -14.98426  -55.96035   23.6  \n",
       "1449648 -20.74054  -57.45909   39.3  \n",
       "\n",
       "[53956 rows x 12 columns]"
      ]
     },
     "execution_count": 85,
     "metadata": {},
     "output_type": "execute_result"
    }
   ],
   "source": [
    "df_aqua = df.loc[df['satelite'] == 'AQUA_M-T']\n",
    "df_aqua"
   ]
  },
  {
   "cell_type": "code",
   "execution_count": null,
   "id": "b5b2a6ba",
   "metadata": {},
   "outputs": [],
   "source": []
  },
  {
   "cell_type": "markdown",
   "id": "5f41a301",
   "metadata": {},
   "source": [
    "### 1. Análise temporal"
   ]
  },
  {
   "cell_type": "code",
   "execution_count": 86,
   "id": "75420eb3",
   "metadata": {
    "ExecuteTime": {
     "end_time": "2023-05-01T14:44:54.133300Z",
     "start_time": "2023-05-01T14:44:53.587570Z"
    }
   },
   "outputs": [],
   "source": [
    "df_date = pd.DataFrame(data=df_aqua, columns=['datahora'])"
   ]
  },
  {
   "cell_type": "code",
   "execution_count": 87,
   "id": "e50b479b",
   "metadata": {
    "ExecuteTime": {
     "end_time": "2023-05-01T14:44:56.649237Z",
     "start_time": "2023-05-01T14:44:56.625302Z"
    }
   },
   "outputs": [
    {
     "name": "stdout",
     "output_type": "stream",
     "text": [
      "<class 'pandas.core.frame.DataFrame'>\n",
      "Int64Index: 53956 entries, 6086 to 1449648\n",
      "Data columns (total 1 columns):\n",
      " #   Column    Non-Null Count  Dtype \n",
      "---  ------    --------------  ----- \n",
      " 0   datahora  53956 non-null  object\n",
      "dtypes: object(1)\n",
      "memory usage: 843.1+ KB\n"
     ]
    }
   ],
   "source": [
    "df_date.info()"
   ]
  },
  {
   "cell_type": "code",
   "execution_count": 88,
   "id": "2ef08ac0",
   "metadata": {
    "ExecuteTime": {
     "end_time": "2023-05-01T14:45:00.346780Z",
     "start_time": "2023-05-01T14:45:00.248046Z"
    }
   },
   "outputs": [
    {
     "data": {
      "text/plain": [
       "DatetimeIndex(['2022-09-11 17:09:00', '2022-09-11 17:09:00',\n",
       "               '2022-09-11 17:09:00', '2022-09-11 17:09:00',\n",
       "               '2022-09-11 17:09:00', '2022-09-11 17:09:00',\n",
       "               '2022-09-11 17:09:00', '2022-09-11 17:09:00',\n",
       "               '2022-09-11 17:09:00', '2022-09-11 17:09:00',\n",
       "               ...\n",
       "               '2022-09-10 18:04:00', '2022-09-10 18:04:00',\n",
       "               '2022-09-10 18:04:00', '2022-09-10 18:04:00',\n",
       "               '2022-09-10 18:04:00', '2022-09-10 18:04:00',\n",
       "               '2022-09-10 18:04:00', '2022-09-10 18:04:00',\n",
       "               '2022-09-10 18:04:00', '2022-09-10 18:02:00'],\n",
       "              dtype='datetime64[ns]', name='datahora', length=53956, freq=None)"
      ]
     },
     "execution_count": 88,
     "metadata": {},
     "output_type": "execute_result"
    }
   ],
   "source": [
    "#criar colunas de dia, mes e hora\n",
    "datas = pd.DatetimeIndex(df_date['datahora'])\n",
    "datas"
   ]
  },
  {
   "cell_type": "code",
   "execution_count": 89,
   "id": "6ccc7b3d",
   "metadata": {
    "ExecuteTime": {
     "end_time": "2023-05-01T14:45:04.723768Z",
     "start_time": "2023-05-01T14:45:04.679909Z"
    }
   },
   "outputs": [],
   "source": [
    "df_date['mes']=datas.month\n",
    "df_date['dia']=datas.day\n",
    "df_date['ano']=datas.year\n",
    "df_date['hora']=datas.hour"
   ]
  },
  {
   "cell_type": "code",
   "execution_count": 90,
   "id": "d8569697",
   "metadata": {
    "ExecuteTime": {
     "end_time": "2023-05-01T14:45:06.755558Z",
     "start_time": "2023-05-01T14:45:06.616186Z"
    }
   },
   "outputs": [
    {
     "data": {
      "text/plain": [
       "ano \n",
       "2022    53956\n",
       "dtype: int64"
      ]
     },
     "execution_count": 90,
     "metadata": {},
     "output_type": "execute_result"
    }
   ],
   "source": [
    "df_date.value_counts(['ano'])\n",
    "#excluir os dados de 2023"
   ]
  },
  {
   "cell_type": "code",
   "execution_count": 91,
   "id": "c2297c85",
   "metadata": {
    "ExecuteTime": {
     "end_time": "2023-05-01T14:45:13.053221Z",
     "start_time": "2023-05-01T14:45:12.955416Z"
    }
   },
   "outputs": [],
   "source": [
    "df_date.drop(df_date.query('ano==2023').index, inplace=True)"
   ]
  },
  {
   "cell_type": "code",
   "execution_count": 92,
   "id": "a9b9f590",
   "metadata": {
    "ExecuteTime": {
     "end_time": "2023-05-01T14:45:13.852444Z",
     "start_time": "2023-05-01T14:45:13.832498Z"
    }
   },
   "outputs": [
    {
     "data": {
      "text/plain": [
       "ano \n",
       "2022    53956\n",
       "dtype: int64"
      ]
     },
     "execution_count": 92,
     "metadata": {},
     "output_type": "execute_result"
    }
   ],
   "source": [
    "df_date.value_counts(['ano'], ascending=False)\n"
   ]
  },
  {
   "cell_type": "code",
   "execution_count": 96,
   "id": "d9535cc5",
   "metadata": {
    "ExecuteTime": {
     "end_time": "2023-05-01T14:45:39.832958Z",
     "start_time": "2023-05-01T14:45:39.817001Z"
    }
   },
   "outputs": [],
   "source": [
    "#horario com maiores ocorrências de incêndio\n",
    "horario = df_date.value_counts(['hora'], ascending=False)\n"
   ]
  },
  {
   "cell_type": "code",
   "execution_count": 97,
   "id": "b8ed278f",
   "metadata": {
    "ExecuteTime": {
     "end_time": "2023-05-01T14:45:40.471346Z",
     "start_time": "2023-05-01T14:45:40.449405Z"
    }
   },
   "outputs": [
    {
     "data": {
      "text/html": [
       "<div>\n",
       "<style scoped>\n",
       "    .dataframe tbody tr th:only-of-type {\n",
       "        vertical-align: middle;\n",
       "    }\n",
       "\n",
       "    .dataframe tbody tr th {\n",
       "        vertical-align: top;\n",
       "    }\n",
       "\n",
       "    .dataframe thead th {\n",
       "        text-align: right;\n",
       "    }\n",
       "</style>\n",
       "<table border=\"1\" class=\"dataframe\">\n",
       "  <thead>\n",
       "    <tr style=\"text-align: right;\">\n",
       "      <th></th>\n",
       "      <th>contagem</th>\n",
       "    </tr>\n",
       "    <tr>\n",
       "      <th>hora</th>\n",
       "      <th></th>\n",
       "    </tr>\n",
       "  </thead>\n",
       "  <tbody>\n",
       "    <tr>\n",
       "      <th>16</th>\n",
       "      <td>33611</td>\n",
       "    </tr>\n",
       "    <tr>\n",
       "      <th>17</th>\n",
       "      <td>19674</td>\n",
       "    </tr>\n",
       "    <tr>\n",
       "      <th>18</th>\n",
       "      <td>451</td>\n",
       "    </tr>\n",
       "    <tr>\n",
       "      <th>15</th>\n",
       "      <td>220</td>\n",
       "    </tr>\n",
       "  </tbody>\n",
       "</table>\n",
       "</div>"
      ],
      "text/plain": [
       "      contagem\n",
       "hora          \n",
       "16       33611\n",
       "17       19674\n",
       "18         451\n",
       "15         220"
      ]
     },
     "execution_count": 97,
     "metadata": {},
     "output_type": "execute_result"
    }
   ],
   "source": [
    "horario = horario.to_frame(name = 'contagem')\n",
    "horario.head()"
   ]
  },
  {
   "cell_type": "code",
   "execution_count": 98,
   "id": "430761e8",
   "metadata": {
    "ExecuteTime": {
     "end_time": "2023-05-01T14:45:44.560750Z",
     "start_time": "2023-05-01T14:45:44.527795Z"
    }
   },
   "outputs": [
    {
     "data": {
      "text/html": [
       "<div>\n",
       "<style scoped>\n",
       "    .dataframe tbody tr th:only-of-type {\n",
       "        vertical-align: middle;\n",
       "    }\n",
       "\n",
       "    .dataframe tbody tr th {\n",
       "        vertical-align: top;\n",
       "    }\n",
       "\n",
       "    .dataframe thead th {\n",
       "        text-align: right;\n",
       "    }\n",
       "</style>\n",
       "<table border=\"1\" class=\"dataframe\">\n",
       "  <thead>\n",
       "    <tr style=\"text-align: right;\">\n",
       "      <th></th>\n",
       "      <th>hora</th>\n",
       "      <th>contagem</th>\n",
       "    </tr>\n",
       "  </thead>\n",
       "  <tbody>\n",
       "    <tr>\n",
       "      <th>0</th>\n",
       "      <td>16</td>\n",
       "      <td>33611</td>\n",
       "    </tr>\n",
       "    <tr>\n",
       "      <th>1</th>\n",
       "      <td>17</td>\n",
       "      <td>19674</td>\n",
       "    </tr>\n",
       "    <tr>\n",
       "      <th>2</th>\n",
       "      <td>18</td>\n",
       "      <td>451</td>\n",
       "    </tr>\n",
       "    <tr>\n",
       "      <th>3</th>\n",
       "      <td>15</td>\n",
       "      <td>220</td>\n",
       "    </tr>\n",
       "  </tbody>\n",
       "</table>\n",
       "</div>"
      ],
      "text/plain": [
       "   hora  contagem\n",
       "0    16     33611\n",
       "1    17     19674\n",
       "2    18       451\n",
       "3    15       220"
      ]
     },
     "execution_count": 98,
     "metadata": {},
     "output_type": "execute_result"
    }
   ],
   "source": [
    "horario.reset_index(inplace=True)\n",
    "horario"
   ]
  },
  {
   "cell_type": "code",
   "execution_count": 99,
   "id": "20d944b3",
   "metadata": {
    "ExecuteTime": {
     "end_time": "2023-05-01T14:45:46.604662Z",
     "start_time": "2023-05-01T14:45:46.224420Z"
    }
   },
   "outputs": [
    {
     "data": {
      "text/plain": [
       "<AxesSubplot:title={'center':'Focos por horário'}, xlabel='Horário', ylabel='Número de Focos'>"
      ]
     },
     "execution_count": 99,
     "metadata": {},
     "output_type": "execute_result"
    },
    {
     "data": {
      "image/png": "[encoded data removed]",
      "text/plain": [
       "<Figure size 432x288 with 1 Axes>"
      ]
     },
     "metadata": {
      "needs_background": "light"
     },
     "output_type": "display_data"
    }
   ],
   "source": [
    "fig= sns.lineplot(data=horario, x='hora', y='contagem')\n",
    "fig.set_xlabel(\"Horário\")\n",
    "fig.set_ylabel(\"Número de Focos\")\n",
    "fig.set(title='Focos por horário')\n",
    "\n",
    "\n",
    "fig"
   ]
  },
  {
   "cell_type": "code",
   "execution_count": 100,
   "id": "da50a77c",
   "metadata": {
    "ExecuteTime": {
     "end_time": "2023-05-01T14:46:19.681919Z",
     "start_time": "2023-05-01T14:46:19.672941Z"
    }
   },
   "outputs": [],
   "source": [
    "pormes = df_date.value_counts(['mes'], ascending=False)\n"
   ]
  },
  {
   "cell_type": "code",
   "execution_count": 101,
   "id": "56787d23",
   "metadata": {
    "ExecuteTime": {
     "end_time": "2023-05-01T14:46:22.716905Z",
     "start_time": "2023-05-01T14:46:22.704936Z"
    }
   },
   "outputs": [
    {
     "data": {
      "text/plain": [
       "pandas.core.series.Series"
      ]
     },
     "execution_count": 101,
     "metadata": {},
     "output_type": "execute_result"
    }
   ],
   "source": [
    "type(pormes)"
   ]
  },
  {
   "cell_type": "code",
   "execution_count": 102,
   "id": "2c73e3e5",
   "metadata": {
    "ExecuteTime": {
     "end_time": "2023-05-01T14:46:24.670103Z",
     "start_time": "2023-05-01T14:46:24.657135Z"
    }
   },
   "outputs": [],
   "source": [
    "pormes = pormes.to_frame(name='contagem')"
   ]
  },
  {
   "cell_type": "code",
   "execution_count": 103,
   "id": "b0ef3a70",
   "metadata": {
    "ExecuteTime": {
     "end_time": "2023-05-01T14:46:26.121754Z",
     "start_time": "2023-05-01T14:46:26.104791Z"
    }
   },
   "outputs": [],
   "source": [
    "pormes.reset_index(inplace=True)"
   ]
  },
  {
   "cell_type": "markdown",
   "id": "333b2f66",
   "metadata": {},
   "source": [
    "Aqui o gráfico que representa o numero de ocorrencias por mes, os meses de setembro e outrubro tem um aumento consideravel, \n",
    "mesmo em comparação com agosto, que é o mes com maior numero de ocorrências além deles. "
   ]
  },
  {
   "cell_type": "code",
   "execution_count": 104,
   "id": "3851ca04",
   "metadata": {
    "ExecuteTime": {
     "end_time": "2023-05-01T14:46:29.585968Z",
     "start_time": "2023-05-01T14:46:29.345973Z"
    }
   },
   "outputs": [
    {
     "data": {
      "text/plain": [
       "[Text(0.5, 1.0, 'Ocorrencia por mês')]"
      ]
     },
     "execution_count": 104,
     "metadata": {},
     "output_type": "execute_result"
    },
    {
     "data": {
      "image/png": "[encoded data removed]",
      "text/plain": [
       "<Figure size 432x288 with 1 Axes>"
      ]
     },
     "metadata": {
      "needs_background": "light"
     },
     "output_type": "display_data"
    }
   ],
   "source": [
    "fig2 = sns.barplot(data=pormes, x='mes', y='contagem')\n",
    "fig2.set_xlabel('Mês')\n",
    "fig2.set_ylabel('Número de Focos')\n",
    "fig2.set(title='Ocorrencia por mês')"
   ]
  },
  {
   "cell_type": "markdown",
   "id": "69d1f6fe",
   "metadata": {
    "ExecuteTime": {
     "end_time": "2023-03-06T15:40:53.964511Z",
     "start_time": "2023-03-06T15:40:53.947553Z"
    }
   },
   "source": [
    "### 2. Análise de área"
   ]
  },
  {
   "cell_type": "code",
   "execution_count": 105,
   "id": "cadc0c8e",
   "metadata": {
    "ExecuteTime": {
     "end_time": "2023-05-01T14:46:41.064191Z",
     "start_time": "2023-05-01T14:46:41.041217Z"
    }
   },
   "outputs": [],
   "source": [
    "df_estados = df_aqua.value_counts(['estado'])\n"
   ]
  },
  {
   "cell_type": "code",
   "execution_count": 106,
   "id": "60fad8a5",
   "metadata": {
    "ExecuteTime": {
     "end_time": "2023-05-01T14:46:41.898915Z",
     "start_time": "2023-05-01T14:46:41.888940Z"
    }
   },
   "outputs": [
    {
     "data": {
      "text/plain": [
       "<bound method NDFrame.head of estado            \n",
       "MARANHAO              14555\n",
       "TOCANTINS             11107\n",
       "MATO GROSSO            7109\n",
       "PIAUI                  5523\n",
       "BAHIA                  5289\n",
       "GOIAS                  4478\n",
       "MINAS GERAIS           4174\n",
       "MATO GROSSO DO SUL      942\n",
       "SAO PAULO               557\n",
       "DISTRITO FEDERAL        202\n",
       "PARANA                   16\n",
       "RONDONIA                  4\n",
       "dtype: int64>"
      ]
     },
     "execution_count": 106,
     "metadata": {},
     "output_type": "execute_result"
    }
   ],
   "source": [
    "df_estados.head"
   ]
  },
  {
   "cell_type": "code",
   "execution_count": 107,
   "id": "a6321985",
   "metadata": {
    "ExecuteTime": {
     "end_time": "2023-05-01T14:46:44.612560Z",
     "start_time": "2023-05-01T14:46:44.447828Z"
    }
   },
   "outputs": [
    {
     "data": {
      "text/plain": [
       "municipio                 \n",
       "BALSAS                        25726\n",
       "MIRADOR                       21739\n",
       "PIUM                          19282\n",
       "ALTO PARNAIBA                 18852\n",
       "SAO DESIDERIO                 18777\n",
       "                              ...  \n",
       "CANDIDO MOTA                      1\n",
       "SAO SEBASTIAO DO RIO PRETO        1\n",
       "ANGELICA                          1\n",
       "PAULISTANIA                       1\n",
       "RIBEIRAO DO SUL                   1\n",
       "Length: 1315, dtype: int64"
      ]
     },
     "execution_count": 107,
     "metadata": {},
     "output_type": "execute_result"
    }
   ],
   "source": [
    "df_municipio = df.value_counts(['municipio'])\n",
    "df_municipio"
   ]
  },
  {
   "cell_type": "markdown",
   "id": "20e6e869",
   "metadata": {},
   "source": [
    "aqui estão os lideres de municipio e estado. como sera a relação dos dois? "
   ]
  },
  {
   "cell_type": "code",
   "execution_count": 111,
   "id": "5d3dd855",
   "metadata": {
    "ExecuteTime": {
     "end_time": "2023-05-01T14:46:57.349230Z",
     "start_time": "2023-05-01T14:46:57.335266Z"
    }
   },
   "outputs": [],
   "source": [
    "dflocais = df_aqua[['municipio', 'estado']]\n"
   ]
  },
  {
   "cell_type": "code",
   "execution_count": 112,
   "id": "1342b189",
   "metadata": {
    "ExecuteTime": {
     "end_time": "2023-05-01T14:47:01.755411Z",
     "start_time": "2023-05-01T14:47:01.649225Z"
    }
   },
   "outputs": [],
   "source": [
    "dflocaiscontag = dflocais.value_counts()"
   ]
  },
  {
   "cell_type": "code",
   "execution_count": 113,
   "id": "57dadc8d",
   "metadata": {
    "ExecuteTime": {
     "end_time": "2023-05-01T14:47:02.368376Z",
     "start_time": "2023-05-01T14:47:02.353417Z"
    }
   },
   "outputs": [],
   "source": [
    "dflocaiscontag = dflocaiscontag.sort_values(ascending=False)"
   ]
  },
  {
   "cell_type": "markdown",
   "id": "b505b0c9",
   "metadata": {},
   "source": [
    "Aqui a análise de municipios, o estado do maranhao que está em primeiro na contagem de estados também tem alguns dos 10 primeiros municipios com o maior numero de ocorrencias. "
   ]
  },
  {
   "cell_type": "code",
   "execution_count": 114,
   "id": "e5187622",
   "metadata": {
    "ExecuteTime": {
     "end_time": "2023-05-01T14:47:04.204632Z",
     "start_time": "2023-05-01T14:47:04.185686Z"
    }
   },
   "outputs": [
    {
     "data": {
      "text/plain": [
       "municipio                estado     \n",
       "MIRADOR                  MARANHAO       1003\n",
       "ALTO PARNAIBA            MARANHAO        981\n",
       "BALSAS                   MARANHAO        961\n",
       "FORMOSO DO ARAGUAIA      TOCANTINS       791\n",
       "FERNANDO FALCAO          MARANHAO        730\n",
       "LAGOA DA CONFUSAO        TOCANTINS       695\n",
       "CAMPINAPOLIS             MATO GROSSO     581\n",
       "URUCUI                   PIAUI           561\n",
       "MATEIROS                 TOCANTINS       548\n",
       "BAIXA GRANDE DO RIBEIRO  PIAUI           545\n",
       "dtype: int64"
      ]
     },
     "execution_count": 114,
     "metadata": {},
     "output_type": "execute_result"
    }
   ],
   "source": [
    "dflocaiscontag.head(10)"
   ]
  },
  {
   "cell_type": "markdown",
   "id": "12fae2b0",
   "metadata": {},
   "source": [
    "### 3. Análise de alguns fatores ambientais"
   ]
  },
  {
   "cell_type": "code",
   "execution_count": 116,
   "id": "fc188f35",
   "metadata": {
    "ExecuteTime": {
     "end_time": "2023-05-01T14:47:44.793166Z",
     "start_time": "2023-05-01T14:47:44.776212Z"
    },
    "scrolled": true
   },
   "outputs": [
    {
     "data": {
      "text/html": [
       "<div>\n",
       "<style scoped>\n",
       "    .dataframe tbody tr th:only-of-type {\n",
       "        vertical-align: middle;\n",
       "    }\n",
       "\n",
       "    .dataframe tbody tr th {\n",
       "        vertical-align: top;\n",
       "    }\n",
       "\n",
       "    .dataframe thead th {\n",
       "        text-align: right;\n",
       "    }\n",
       "</style>\n",
       "<table border=\"1\" class=\"dataframe\">\n",
       "  <thead>\n",
       "    <tr style=\"text-align: right;\">\n",
       "      <th></th>\n",
       "      <th>datahora</th>\n",
       "      <th>satelite</th>\n",
       "      <th>pais</th>\n",
       "      <th>estado</th>\n",
       "      <th>municipio</th>\n",
       "      <th>bioma</th>\n",
       "      <th>diasemchuva</th>\n",
       "      <th>precipitacao</th>\n",
       "      <th>riscofogo</th>\n",
       "      <th>latitude</th>\n",
       "      <th>longitude</th>\n",
       "      <th>frp</th>\n",
       "    </tr>\n",
       "  </thead>\n",
       "  <tbody>\n",
       "  </tbody>\n",
       "</table>\n",
       "</div>"
      ],
      "text/plain": [
       "Empty DataFrame\n",
       "Columns: [datahora, satelite, pais, estado, municipio, bioma, diasemchuva, precipitacao, riscofogo, latitude, longitude, frp]\n",
       "Index: []"
      ]
     },
     "execution_count": 116,
     "metadata": {},
     "output_type": "execute_result"
    }
   ],
   "source": [
    "#retirar valores nulos e com erro\n",
    "\n",
    "df_aqua[df_aqua['diasemchuva'].isnull()]"
   ]
  },
  {
   "cell_type": "markdown",
   "id": "5482a2e1",
   "metadata": {},
   "source": [
    "retirei os NaN dos dias sem chuva, que eram basicamente onde estava faltando dados nas outras colunas\n"
   ]
  },
  {
   "cell_type": "code",
   "execution_count": 117,
   "id": "e16aa0ef",
   "metadata": {
    "ExecuteTime": {
     "end_time": "2023-05-01T14:48:17.874993Z",
     "start_time": "2023-05-01T14:48:17.856045Z"
    }
   },
   "outputs": [
    {
     "name": "stderr",
     "output_type": "stream",
     "text": [
      "C:\\Users\\lucas\\anaconda3\\lib\\site-packages\\pandas\\core\\frame.py:4906: SettingWithCopyWarning: \n",
      "A value is trying to be set on a copy of a slice from a DataFrame\n",
      "\n",
      "See the caveats in the documentation: https://pandas.pydata.org/pandas-docs/stable/user_guide/indexing.html#returning-a-view-versus-a-copy\n",
      "  return super().drop(\n"
     ]
    }
   ],
   "source": [
    "#retirar valores que apresentam erro\n",
    "\n",
    "df_aqua.drop(df_aqua.query('diasemchuva == -999').index, inplace=True)"
   ]
  },
  {
   "cell_type": "code",
   "execution_count": 119,
   "id": "c6781c5e",
   "metadata": {
    "ExecuteTime": {
     "end_time": "2023-05-01T14:48:32.497877Z",
     "start_time": "2023-05-01T14:48:32.487901Z"
    }
   },
   "outputs": [
    {
     "name": "stdout",
     "output_type": "stream",
     "text": [
      "min 0.0\n",
      "max 357.0\n"
     ]
    }
   ],
   "source": [
    "print('min', df_aqua['diasemchuva'].min())\n",
    "print('max', df_aqua['diasemchuva'].max())"
   ]
  },
  {
   "cell_type": "code",
   "execution_count": 120,
   "id": "f6b6d362",
   "metadata": {
    "ExecuteTime": {
     "end_time": "2023-05-01T14:48:38.795569Z",
     "start_time": "2023-05-01T14:48:38.776615Z"
    }
   },
   "outputs": [
    {
     "name": "stdout",
     "output_type": "stream",
     "text": [
      "minrisco 0.0\n",
      "maxrisco 1.0\n"
     ]
    }
   ],
   "source": [
    "print('minrisco', df_aqua['riscofogo'].min())\n",
    "print('maxrisco', df_aqua['riscofogo'].max())"
   ]
  },
  {
   "cell_type": "code",
   "execution_count": 69,
   "id": "03e50da4",
   "metadata": {
    "ExecuteTime": {
     "end_time": "2023-05-01T14:03:43.990931Z",
     "start_time": "2023-05-01T14:03:43.951037Z"
    }
   },
   "outputs": [
    {
     "data": {
      "text/html": [
       "<div>\n",
       "<style scoped>\n",
       "    .dataframe tbody tr th:only-of-type {\n",
       "        vertical-align: middle;\n",
       "    }\n",
       "\n",
       "    .dataframe tbody tr th {\n",
       "        vertical-align: top;\n",
       "    }\n",
       "\n",
       "    .dataframe thead th {\n",
       "        text-align: right;\n",
       "    }\n",
       "</style>\n",
       "<table border=\"1\" class=\"dataframe\">\n",
       "  <thead>\n",
       "    <tr style=\"text-align: right;\">\n",
       "      <th></th>\n",
       "      <th>datahora</th>\n",
       "      <th>satelite</th>\n",
       "      <th>pais</th>\n",
       "      <th>estado</th>\n",
       "      <th>municipio</th>\n",
       "      <th>bioma</th>\n",
       "      <th>diasemchuva</th>\n",
       "      <th>precipitacao</th>\n",
       "      <th>riscofogo</th>\n",
       "      <th>latitude</th>\n",
       "      <th>longitude</th>\n",
       "      <th>frp</th>\n",
       "    </tr>\n",
       "  </thead>\n",
       "  <tbody>\n",
       "  </tbody>\n",
       "</table>\n",
       "</div>"
      ],
      "text/plain": [
       "Empty DataFrame\n",
       "Columns: [datahora, satelite, pais, estado, municipio, bioma, diasemchuva, precipitacao, riscofogo, latitude, longitude, frp]\n",
       "Index: []"
      ]
     },
     "execution_count": 69,
     "metadata": {},
     "output_type": "execute_result"
    }
   ],
   "source": [
    "df.query('riscofogo == -999')"
   ]
  },
  {
   "cell_type": "code",
   "execution_count": 33,
   "id": "83b9932d",
   "metadata": {
    "ExecuteTime": {
     "end_time": "2023-05-01T13:27:18.209562Z",
     "start_time": "2023-05-01T13:27:17.694768Z"
    }
   },
   "outputs": [],
   "source": [
    "df.drop(df.query('riscofogo == -999').index, inplace=True)"
   ]
  },
  {
   "cell_type": "code",
   "execution_count": 70,
   "id": "3db4d024",
   "metadata": {
    "ExecuteTime": {
     "end_time": "2023-05-01T14:03:55.352651Z",
     "start_time": "2023-05-01T14:03:55.333659Z"
    }
   },
   "outputs": [
    {
     "name": "stdout",
     "output_type": "stream",
     "text": [
      "chuvamin 0.0\n",
      "chuvamax 126.33\n"
     ]
    }
   ],
   "source": [
    "print('chuvamin', df['precipitacao'].min())\n",
    "print('chuvamax', df['precipitacao'].max())"
   ]
  },
  {
   "cell_type": "code",
   "execution_count": 121,
   "id": "4f13da83",
   "metadata": {
    "ExecuteTime": {
     "end_time": "2023-05-01T14:48:49.503169Z",
     "start_time": "2023-05-01T14:48:49.488210Z"
    }
   },
   "outputs": [
    {
     "data": {
      "text/plain": [
       "649795    101.71\n",
       "649798     89.21\n",
       "685328     72.06\n",
       "685326     71.91\n",
       "685327     71.75\n",
       "           ...  \n",
       "619985      0.00\n",
       "619986      0.00\n",
       "619987      0.00\n",
       "619988      0.00\n",
       "823970      0.00\n",
       "Name: precipitacao, Length: 53956, dtype: float64"
      ]
     },
     "execution_count": 121,
     "metadata": {},
     "output_type": "execute_result"
    }
   ],
   "source": [
    "chuvas = df_aqua['precipitacao'].sort_values(ascending=False)\n",
    "chuvas"
   ]
  },
  {
   "cell_type": "code",
   "execution_count": 125,
   "id": "aefb4faf",
   "metadata": {
    "ExecuteTime": {
     "end_time": "2023-05-01T14:50:39.292292Z",
     "start_time": "2023-05-01T14:50:39.248408Z"
    }
   },
   "outputs": [
    {
     "data": {
      "text/html": [
       "<div>\n",
       "<style scoped>\n",
       "    .dataframe tbody tr th:only-of-type {\n",
       "        vertical-align: middle;\n",
       "    }\n",
       "\n",
       "    .dataframe tbody tr th {\n",
       "        vertical-align: top;\n",
       "    }\n",
       "\n",
       "    .dataframe thead th {\n",
       "        text-align: right;\n",
       "    }\n",
       "</style>\n",
       "<table border=\"1\" class=\"dataframe\">\n",
       "  <thead>\n",
       "    <tr style=\"text-align: right;\">\n",
       "      <th></th>\n",
       "      <th>diasemchuva</th>\n",
       "      <th>riscofogo</th>\n",
       "    </tr>\n",
       "  </thead>\n",
       "  <tbody>\n",
       "    <tr>\n",
       "      <th>diasemchuva</th>\n",
       "      <td>1.000000</td>\n",
       "      <td>0.387501</td>\n",
       "    </tr>\n",
       "    <tr>\n",
       "      <th>riscofogo</th>\n",
       "      <td>0.387501</td>\n",
       "      <td>1.000000</td>\n",
       "    </tr>\n",
       "  </tbody>\n",
       "</table>\n",
       "</div>"
      ],
      "text/plain": [
       "             diasemchuva  riscofogo\n",
       "diasemchuva     1.000000   0.387501\n",
       "riscofogo       0.387501   1.000000"
      ]
     },
     "execution_count": 125,
     "metadata": {},
     "output_type": "execute_result"
    }
   ],
   "source": [
    "df_aqua[['diasemchuva', 'riscofogo']].corr()"
   ]
  },
  {
   "cell_type": "code",
   "execution_count": null,
   "id": "afab538c",
   "metadata": {},
   "outputs": [],
   "source": []
  },
  {
   "cell_type": "code",
   "execution_count": null,
   "id": "5de6f223",
   "metadata": {},
   "outputs": [],
   "source": []
  },
  {
   "cell_type": "code",
   "execution_count": null,
   "id": "d41d94ef",
   "metadata": {},
   "outputs": [],
   "source": []
  },
  {
   "cell_type": "code",
   "execution_count": null,
   "id": "f2a34d72",
   "metadata": {},
   "outputs": [],
   "source": []
  }
 ],
 "metadata": {
  "kernelspec": {
   "display_name": "Python 3 (ipykernel)",
   "language": "python",
   "name": "python3"
  },
  "language_info": {
   "codemirror_mode": {
    "name": "ipython",
    "version": 3
   },
   "file_extension": ".py",
   "mimetype": "text/x-python",
   "name": "python",
   "nbconvert_exporter": "python",
   "pygments_lexer": "ipython3",
   "version": "3.9.7"
  }
 },
 "nbformat": 4,
 "nbformat_minor": 5
}
