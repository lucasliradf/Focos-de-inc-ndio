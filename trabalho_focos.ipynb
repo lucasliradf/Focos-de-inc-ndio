{
 "cells": [
  {
   "cell_type": "code",
   "execution_count": 1,
   "id": "4156afe7",
   "metadata": {
    "ExecuteTime": {
     "end_time": "2023-03-06T15:29:01.406469Z",
     "start_time": "2023-03-06T15:29:01.384527Z"
    }
   },
   "outputs": [],
   "source": [
    "##utilizando a base de dados do inpe, vamos realizar algumas análises sobre queimadas\n",
    "## https://queimadas.dgi.inpe.br/~rqueimadas/documentos/\n",
    "#1 - série histórica do ano de 2022, quais meses de maiores focos\n",
    "#2 - áreas mais afetadas \n",
    "#3 - análise dos fatores ambientais, como precipitação e dias sem chuva\n"
   ]
  },
  {
   "cell_type": "code",
   "execution_count": 2,
   "id": "5c918015",
   "metadata": {
    "ExecuteTime": {
     "end_time": "2023-03-06T15:29:23.543246Z",
     "start_time": "2023-03-06T15:29:01.409462Z"
    }
   },
   "outputs": [],
   "source": [
    "import pandas as pd\n",
    "import numpy as np \n",
    "import seaborn as sns\n",
    "import matplotlib.pyplot as plt"
   ]
  },
  {
   "cell_type": "code",
   "execution_count": 3,
   "id": "a487717d",
   "metadata": {
    "ExecuteTime": {
     "end_time": "2023-03-06T15:29:26.866995Z",
     "start_time": "2023-03-06T15:29:23.543246Z"
    }
   },
   "outputs": [
    {
     "data": {
      "text/html": [
       "<div>\n",
       "<style scoped>\n",
       "    .dataframe tbody tr th:only-of-type {\n",
       "        vertical-align: middle;\n",
       "    }\n",
       "\n",
       "    .dataframe tbody tr th {\n",
       "        vertical-align: top;\n",
       "    }\n",
       "\n",
       "    .dataframe thead th {\n",
       "        text-align: right;\n",
       "    }\n",
       "</style>\n",
       "<table border=\"1\" class=\"dataframe\">\n",
       "  <thead>\n",
       "    <tr style=\"text-align: right;\">\n",
       "      <th></th>\n",
       "      <th>datahora</th>\n",
       "      <th>satelite</th>\n",
       "      <th>pais</th>\n",
       "      <th>estado</th>\n",
       "      <th>municipio</th>\n",
       "      <th>bioma</th>\n",
       "      <th>diasemchuva</th>\n",
       "      <th>precipitacao</th>\n",
       "      <th>riscofogo</th>\n",
       "      <th>latitude</th>\n",
       "      <th>longitude</th>\n",
       "      <th>frp</th>\n",
       "    </tr>\n",
       "  </thead>\n",
       "  <tbody>\n",
       "    <tr>\n",
       "      <th>0</th>\n",
       "      <td>2022/09/11 04:19:00</td>\n",
       "      <td>NOAA-20</td>\n",
       "      <td>Brasil</td>\n",
       "      <td>PIAUI</td>\n",
       "      <td>URUCUI</td>\n",
       "      <td>Cerrado</td>\n",
       "      <td>28.0</td>\n",
       "      <td>0.0</td>\n",
       "      <td>1.0</td>\n",
       "      <td>-7.45158</td>\n",
       "      <td>-44.46713</td>\n",
       "      <td>2.2</td>\n",
       "    </tr>\n",
       "    <tr>\n",
       "      <th>1</th>\n",
       "      <td>2022/09/11 04:19:00</td>\n",
       "      <td>NOAA-20</td>\n",
       "      <td>Brasil</td>\n",
       "      <td>PIAUI</td>\n",
       "      <td>URUCUI</td>\n",
       "      <td>Cerrado</td>\n",
       "      <td>27.0</td>\n",
       "      <td>0.0</td>\n",
       "      <td>1.0</td>\n",
       "      <td>-7.45103</td>\n",
       "      <td>-44.47060</td>\n",
       "      <td>2.6</td>\n",
       "    </tr>\n",
       "    <tr>\n",
       "      <th>2</th>\n",
       "      <td>2022/09/11 04:19:00</td>\n",
       "      <td>NOAA-20</td>\n",
       "      <td>Brasil</td>\n",
       "      <td>PIAUI</td>\n",
       "      <td>URUCUI</td>\n",
       "      <td>Cerrado</td>\n",
       "      <td>59.0</td>\n",
       "      <td>0.0</td>\n",
       "      <td>1.0</td>\n",
       "      <td>-7.44864</td>\n",
       "      <td>-44.39903</td>\n",
       "      <td>1.8</td>\n",
       "    </tr>\n",
       "    <tr>\n",
       "      <th>3</th>\n",
       "      <td>2022/09/11 04:19:00</td>\n",
       "      <td>NOAA-20</td>\n",
       "      <td>Brasil</td>\n",
       "      <td>PIAUI</td>\n",
       "      <td>URUCUI</td>\n",
       "      <td>Cerrado</td>\n",
       "      <td>59.0</td>\n",
       "      <td>0.0</td>\n",
       "      <td>1.0</td>\n",
       "      <td>-7.44533</td>\n",
       "      <td>-44.39851</td>\n",
       "      <td>1.2</td>\n",
       "    </tr>\n",
       "    <tr>\n",
       "      <th>4</th>\n",
       "      <td>2022/09/11 04:19:00</td>\n",
       "      <td>NOAA-20</td>\n",
       "      <td>Brasil</td>\n",
       "      <td>PIAUI</td>\n",
       "      <td>URUCUI</td>\n",
       "      <td>Cerrado</td>\n",
       "      <td>75.0</td>\n",
       "      <td>0.0</td>\n",
       "      <td>1.0</td>\n",
       "      <td>-7.43312</td>\n",
       "      <td>-44.82275</td>\n",
       "      <td>2.6</td>\n",
       "    </tr>\n",
       "    <tr>\n",
       "      <th>5</th>\n",
       "      <td>2022/09/11 04:19:00</td>\n",
       "      <td>NOAA-20</td>\n",
       "      <td>Brasil</td>\n",
       "      <td>PIAUI</td>\n",
       "      <td>SEBASTIAO LEAL</td>\n",
       "      <td>Cerrado</td>\n",
       "      <td>89.0</td>\n",
       "      <td>0.0</td>\n",
       "      <td>1.0</td>\n",
       "      <td>-7.35500</td>\n",
       "      <td>-44.28152</td>\n",
       "      <td>1.5</td>\n",
       "    </tr>\n",
       "    <tr>\n",
       "      <th>6</th>\n",
       "      <td>2022/09/11 04:19:00</td>\n",
       "      <td>NOAA-20</td>\n",
       "      <td>Brasil</td>\n",
       "      <td>PIAUI</td>\n",
       "      <td>URUCUI</td>\n",
       "      <td>Cerrado</td>\n",
       "      <td>28.0</td>\n",
       "      <td>0.0</td>\n",
       "      <td>1.0</td>\n",
       "      <td>-7.24448</td>\n",
       "      <td>-44.48819</td>\n",
       "      <td>2.2</td>\n",
       "    </tr>\n",
       "    <tr>\n",
       "      <th>7</th>\n",
       "      <td>2022/09/11 04:19:00</td>\n",
       "      <td>NOAA-20</td>\n",
       "      <td>Brasil</td>\n",
       "      <td>MARANHAO</td>\n",
       "      <td>BENEDITO LEITE</td>\n",
       "      <td>Cerrado</td>\n",
       "      <td>79.0</td>\n",
       "      <td>0.0</td>\n",
       "      <td>1.0</td>\n",
       "      <td>-7.26667</td>\n",
       "      <td>-44.65174</td>\n",
       "      <td>3.4</td>\n",
       "    </tr>\n",
       "    <tr>\n",
       "      <th>8</th>\n",
       "      <td>2022/09/11 04:19:00</td>\n",
       "      <td>NOAA-20</td>\n",
       "      <td>Brasil</td>\n",
       "      <td>MARANHAO</td>\n",
       "      <td>SAO FELIX DE BALSAS</td>\n",
       "      <td>Cerrado</td>\n",
       "      <td>81.0</td>\n",
       "      <td>0.0</td>\n",
       "      <td>1.0</td>\n",
       "      <td>-7.21225</td>\n",
       "      <td>-44.84483</td>\n",
       "      <td>3.9</td>\n",
       "    </tr>\n",
       "    <tr>\n",
       "      <th>9</th>\n",
       "      <td>2022/09/11 04:19:00</td>\n",
       "      <td>NOAA-20</td>\n",
       "      <td>Brasil</td>\n",
       "      <td>MARANHAO</td>\n",
       "      <td>SAO FELIX DE BALSAS</td>\n",
       "      <td>Cerrado</td>\n",
       "      <td>78.0</td>\n",
       "      <td>0.0</td>\n",
       "      <td>1.0</td>\n",
       "      <td>-7.20840</td>\n",
       "      <td>-44.84777</td>\n",
       "      <td>3.9</td>\n",
       "    </tr>\n",
       "  </tbody>\n",
       "</table>\n",
       "</div>"
      ],
      "text/plain": [
       "              datahora satelite    pais    estado            municipio  \\\n",
       "0  2022/09/11 04:19:00  NOAA-20  Brasil     PIAUI               URUCUI   \n",
       "1  2022/09/11 04:19:00  NOAA-20  Brasil     PIAUI               URUCUI   \n",
       "2  2022/09/11 04:19:00  NOAA-20  Brasil     PIAUI               URUCUI   \n",
       "3  2022/09/11 04:19:00  NOAA-20  Brasil     PIAUI               URUCUI   \n",
       "4  2022/09/11 04:19:00  NOAA-20  Brasil     PIAUI               URUCUI   \n",
       "5  2022/09/11 04:19:00  NOAA-20  Brasil     PIAUI       SEBASTIAO LEAL   \n",
       "6  2022/09/11 04:19:00  NOAA-20  Brasil     PIAUI               URUCUI   \n",
       "7  2022/09/11 04:19:00  NOAA-20  Brasil  MARANHAO       BENEDITO LEITE   \n",
       "8  2022/09/11 04:19:00  NOAA-20  Brasil  MARANHAO  SAO FELIX DE BALSAS   \n",
       "9  2022/09/11 04:19:00  NOAA-20  Brasil  MARANHAO  SAO FELIX DE BALSAS   \n",
       "\n",
       "     bioma  diasemchuva  precipitacao  riscofogo  latitude  longitude  frp  \n",
       "0  Cerrado         28.0           0.0        1.0  -7.45158  -44.46713  2.2  \n",
       "1  Cerrado         27.0           0.0        1.0  -7.45103  -44.47060  2.6  \n",
       "2  Cerrado         59.0           0.0        1.0  -7.44864  -44.39903  1.8  \n",
       "3  Cerrado         59.0           0.0        1.0  -7.44533  -44.39851  1.2  \n",
       "4  Cerrado         75.0           0.0        1.0  -7.43312  -44.82275  2.6  \n",
       "5  Cerrado         89.0           0.0        1.0  -7.35500  -44.28152  1.5  \n",
       "6  Cerrado         28.0           0.0        1.0  -7.24448  -44.48819  2.2  \n",
       "7  Cerrado         79.0           0.0        1.0  -7.26667  -44.65174  3.4  \n",
       "8  Cerrado         81.0           0.0        1.0  -7.21225  -44.84483  3.9  \n",
       "9  Cerrado         78.0           0.0        1.0  -7.20840  -44.84777  3.9  "
      ]
     },
     "execution_count": 3,
     "metadata": {},
     "output_type": "execute_result"
    }
   ],
   "source": [
    "df = pd.read_csv(f'Focos_2022-01-01_2023-01-01.csv')\n",
    "df.head(10)\n"
   ]
  },
  {
   "cell_type": "code",
   "execution_count": 4,
   "id": "e7d43f3b",
   "metadata": {
    "ExecuteTime": {
     "end_time": "2023-03-06T15:29:27.294819Z",
     "start_time": "2023-03-06T15:29:26.866995Z"
    }
   },
   "outputs": [
    {
     "name": "stdout",
     "output_type": "stream",
     "text": [
      "<class 'pandas.core.frame.DataFrame'>\n",
      "RangeIndex: 1462901 entries, 0 to 1462900\n",
      "Data columns (total 12 columns):\n",
      " #   Column        Non-Null Count    Dtype  \n",
      "---  ------        --------------    -----  \n",
      " 0   datahora      1462901 non-null  object \n",
      " 1   satelite      1462901 non-null  object \n",
      " 2   pais          1462901 non-null  object \n",
      " 3   estado        1462901 non-null  object \n",
      " 4   municipio     1462901 non-null  object \n",
      " 5   bioma         1462901 non-null  object \n",
      " 6   diasemchuva   1417819 non-null  float64\n",
      " 7   precipitacao  1417819 non-null  float64\n",
      " 8   riscofogo     1417819 non-null  float64\n",
      " 9   latitude      1462901 non-null  float64\n",
      " 10  longitude     1462901 non-null  float64\n",
      " 11  frp           1257010 non-null  float64\n",
      "dtypes: float64(6), object(6)\n",
      "memory usage: 133.9+ MB\n",
      "None\n"
     ]
    }
   ],
   "source": [
    "print(df.info())"
   ]
  },
  {
   "cell_type": "markdown",
   "id": "5f41a301",
   "metadata": {},
   "source": [
    "### 1. Análise temporal"
   ]
  },
  {
   "cell_type": "code",
   "execution_count": 41,
   "id": "75420eb3",
   "metadata": {
    "ExecuteTime": {
     "end_time": "2023-03-06T15:40:29.545016Z",
     "start_time": "2023-03-06T15:40:29.507842Z"
    }
   },
   "outputs": [],
   "source": [
    "df_date = pd.DataFrame(data=df, columns=['datahora'])"
   ]
  },
  {
   "cell_type": "code",
   "execution_count": 6,
   "id": "e50b479b",
   "metadata": {
    "ExecuteTime": {
     "end_time": "2023-03-06T15:29:27.523282Z",
     "start_time": "2023-03-06T15:29:27.336137Z"
    }
   },
   "outputs": [
    {
     "name": "stdout",
     "output_type": "stream",
     "text": [
      "<class 'pandas.core.frame.DataFrame'>\n",
      "RangeIndex: 1462901 entries, 0 to 1462900\n",
      "Data columns (total 1 columns):\n",
      " #   Column    Non-Null Count    Dtype \n",
      "---  ------    --------------    ----- \n",
      " 0   datahora  1462901 non-null  object\n",
      "dtypes: object(1)\n",
      "memory usage: 11.2+ MB\n"
     ]
    }
   ],
   "source": [
    "df_date.info()"
   ]
  },
  {
   "cell_type": "code",
   "execution_count": 7,
   "id": "2ef08ac0",
   "metadata": {
    "ExecuteTime": {
     "end_time": "2023-03-06T15:29:28.687092Z",
     "start_time": "2023-03-06T15:29:27.525282Z"
    }
   },
   "outputs": [
    {
     "data": {
      "text/plain": [
       "DatetimeIndex(['2022-09-11 04:19:00', '2022-09-11 04:19:00',\n",
       "               '2022-09-11 04:19:00', '2022-09-11 04:19:00',\n",
       "               '2022-09-11 04:19:00', '2022-09-11 04:19:00',\n",
       "               '2022-09-11 04:19:00', '2022-09-11 04:19:00',\n",
       "               '2022-09-11 04:19:00', '2022-09-11 04:19:00',\n",
       "               ...\n",
       "               '2022-09-11 04:19:00', '2022-09-11 04:19:00',\n",
       "               '2022-09-11 04:19:00', '2022-09-11 04:19:00',\n",
       "               '2022-09-11 04:19:00', '2022-09-11 04:19:00',\n",
       "               '2022-09-11 04:19:00', '2022-09-11 04:19:00',\n",
       "               '2022-09-11 04:19:00', '2022-09-11 04:19:00'],\n",
       "              dtype='datetime64[ns]', name='datahora', length=1462901, freq=None)"
      ]
     },
     "execution_count": 7,
     "metadata": {},
     "output_type": "execute_result"
    }
   ],
   "source": [
    "#criar colunas de dia, mes e hora\n",
    "datas = pd.DatetimeIndex(df_date['datahora'])\n",
    "datas"
   ]
  },
  {
   "cell_type": "code",
   "execution_count": 8,
   "id": "6ccc7b3d",
   "metadata": {
    "ExecuteTime": {
     "end_time": "2023-03-06T15:29:29.316681Z",
     "start_time": "2023-03-06T15:29:28.687092Z"
    }
   },
   "outputs": [],
   "source": [
    "df_date['mes']=datas.month\n",
    "df_date['dia']=datas.day\n",
    "df_date['ano']=datas.year\n",
    "df_date['hora']=datas.hour"
   ]
  },
  {
   "cell_type": "code",
   "execution_count": 9,
   "id": "d8569697",
   "metadata": {
    "ExecuteTime": {
     "end_time": "2023-03-06T15:29:29.380303Z",
     "start_time": "2023-03-06T15:29:29.316681Z"
    }
   },
   "outputs": [
    {
     "data": {
      "text/plain": [
       "ano \n",
       "2022    1462667\n",
       "2023        234\n",
       "dtype: int64"
      ]
     },
     "execution_count": 9,
     "metadata": {},
     "output_type": "execute_result"
    }
   ],
   "source": [
    "df_date.value_counts(['ano'])\n",
    "#excluir os dados de 2023"
   ]
  },
  {
   "cell_type": "code",
   "execution_count": 10,
   "id": "c2297c85",
   "metadata": {
    "ExecuteTime": {
     "end_time": "2023-03-06T15:29:29.636517Z",
     "start_time": "2023-03-06T15:29:29.384147Z"
    }
   },
   "outputs": [],
   "source": [
    "df_date.drop(df_date.query('ano==2023').index, inplace=True)"
   ]
  },
  {
   "cell_type": "code",
   "execution_count": 11,
   "id": "a9b9f590",
   "metadata": {
    "ExecuteTime": {
     "end_time": "2023-03-06T15:29:29.697050Z",
     "start_time": "2023-03-06T15:29:29.638434Z"
    }
   },
   "outputs": [
    {
     "data": {
      "text/plain": [
       "ano \n",
       "2022    1462667\n",
       "dtype: int64"
      ]
     },
     "execution_count": 11,
     "metadata": {},
     "output_type": "execute_result"
    }
   ],
   "source": [
    "df_date.value_counts(['ano'], ascending=False)\n"
   ]
  },
  {
   "cell_type": "code",
   "execution_count": 12,
   "id": "d9535cc5",
   "metadata": {
    "ExecuteTime": {
     "end_time": "2023-03-06T15:29:29.935446Z",
     "start_time": "2023-03-06T15:29:29.700004Z"
    }
   },
   "outputs": [],
   "source": [
    "#horario com maiores ocorrências de incêndio\n",
    "horario = df_date.value_counts(['hora'], ascending=False)\n"
   ]
  },
  {
   "cell_type": "code",
   "execution_count": 13,
   "id": "b8ed278f",
   "metadata": {
    "ExecuteTime": {
     "end_time": "2023-03-06T15:29:30.044453Z",
     "start_time": "2023-03-06T15:29:29.937447Z"
    }
   },
   "outputs": [
    {
     "data": {
      "text/html": [
       "<div>\n",
       "<style scoped>\n",
       "    .dataframe tbody tr th:only-of-type {\n",
       "        vertical-align: middle;\n",
       "    }\n",
       "\n",
       "    .dataframe tbody tr th {\n",
       "        vertical-align: top;\n",
       "    }\n",
       "\n",
       "    .dataframe thead th {\n",
       "        text-align: right;\n",
       "    }\n",
       "</style>\n",
       "<table border=\"1\" class=\"dataframe\">\n",
       "  <thead>\n",
       "    <tr style=\"text-align: right;\">\n",
       "      <th></th>\n",
       "      <th>contagem</th>\n",
       "    </tr>\n",
       "    <tr>\n",
       "      <th>hora</th>\n",
       "      <th></th>\n",
       "    </tr>\n",
       "  </thead>\n",
       "  <tbody>\n",
       "    <tr>\n",
       "      <th>16</th>\n",
       "      <td>387525</td>\n",
       "    </tr>\n",
       "    <tr>\n",
       "      <th>17</th>\n",
       "      <td>223083</td>\n",
       "    </tr>\n",
       "    <tr>\n",
       "      <th>4</th>\n",
       "      <td>189190</td>\n",
       "    </tr>\n",
       "    <tr>\n",
       "      <th>15</th>\n",
       "      <td>78926</td>\n",
       "    </tr>\n",
       "    <tr>\n",
       "      <th>13</th>\n",
       "      <td>61789</td>\n",
       "    </tr>\n",
       "  </tbody>\n",
       "</table>\n",
       "</div>"
      ],
      "text/plain": [
       "      contagem\n",
       "hora          \n",
       "16      387525\n",
       "17      223083\n",
       "4       189190\n",
       "15       78926\n",
       "13       61789"
      ]
     },
     "execution_count": 13,
     "metadata": {},
     "output_type": "execute_result"
    }
   ],
   "source": [
    "horario = horario.to_frame(name = 'contagem')\n",
    "horario.head()"
   ]
  },
  {
   "cell_type": "code",
   "execution_count": 14,
   "id": "430761e8",
   "metadata": {
    "ExecuteTime": {
     "end_time": "2023-03-06T15:29:30.219216Z",
     "start_time": "2023-03-06T15:29:30.048700Z"
    },
    "collapsed": true
   },
   "outputs": [
    {
     "data": {
      "text/html": [
       "<div>\n",
       "<style scoped>\n",
       "    .dataframe tbody tr th:only-of-type {\n",
       "        vertical-align: middle;\n",
       "    }\n",
       "\n",
       "    .dataframe tbody tr th {\n",
       "        vertical-align: top;\n",
       "    }\n",
       "\n",
       "    .dataframe thead th {\n",
       "        text-align: right;\n",
       "    }\n",
       "</style>\n",
       "<table border=\"1\" class=\"dataframe\">\n",
       "  <thead>\n",
       "    <tr style=\"text-align: right;\">\n",
       "      <th></th>\n",
       "      <th>hora</th>\n",
       "      <th>contagem</th>\n",
       "    </tr>\n",
       "  </thead>\n",
       "  <tbody>\n",
       "    <tr>\n",
       "      <th>0</th>\n",
       "      <td>16</td>\n",
       "      <td>387525</td>\n",
       "    </tr>\n",
       "    <tr>\n",
       "      <th>1</th>\n",
       "      <td>17</td>\n",
       "      <td>223083</td>\n",
       "    </tr>\n",
       "    <tr>\n",
       "      <th>2</th>\n",
       "      <td>4</td>\n",
       "      <td>189190</td>\n",
       "    </tr>\n",
       "    <tr>\n",
       "      <th>3</th>\n",
       "      <td>15</td>\n",
       "      <td>78926</td>\n",
       "    </tr>\n",
       "    <tr>\n",
       "      <th>4</th>\n",
       "      <td>13</td>\n",
       "      <td>61789</td>\n",
       "    </tr>\n",
       "    <tr>\n",
       "      <th>5</th>\n",
       "      <td>3</td>\n",
       "      <td>57820</td>\n",
       "    </tr>\n",
       "    <tr>\n",
       "      <th>6</th>\n",
       "      <td>19</td>\n",
       "      <td>56285</td>\n",
       "    </tr>\n",
       "    <tr>\n",
       "      <th>7</th>\n",
       "      <td>18</td>\n",
       "      <td>51906</td>\n",
       "    </tr>\n",
       "    <tr>\n",
       "      <th>8</th>\n",
       "      <td>14</td>\n",
       "      <td>50312</td>\n",
       "    </tr>\n",
       "    <tr>\n",
       "      <th>9</th>\n",
       "      <td>20</td>\n",
       "      <td>49342</td>\n",
       "    </tr>\n",
       "    <tr>\n",
       "      <th>10</th>\n",
       "      <td>22</td>\n",
       "      <td>45940</td>\n",
       "    </tr>\n",
       "    <tr>\n",
       "      <th>11</th>\n",
       "      <td>23</td>\n",
       "      <td>37223</td>\n",
       "    </tr>\n",
       "    <tr>\n",
       "      <th>12</th>\n",
       "      <td>5</td>\n",
       "      <td>35921</td>\n",
       "    </tr>\n",
       "    <tr>\n",
       "      <th>13</th>\n",
       "      <td>1</td>\n",
       "      <td>34774</td>\n",
       "    </tr>\n",
       "    <tr>\n",
       "      <th>14</th>\n",
       "      <td>21</td>\n",
       "      <td>33300</td>\n",
       "    </tr>\n",
       "    <tr>\n",
       "      <th>15</th>\n",
       "      <td>0</td>\n",
       "      <td>22732</td>\n",
       "    </tr>\n",
       "    <tr>\n",
       "      <th>16</th>\n",
       "      <td>12</td>\n",
       "      <td>20540</td>\n",
       "    </tr>\n",
       "    <tr>\n",
       "      <th>17</th>\n",
       "      <td>2</td>\n",
       "      <td>12184</td>\n",
       "    </tr>\n",
       "    <tr>\n",
       "      <th>18</th>\n",
       "      <td>11</td>\n",
       "      <td>6448</td>\n",
       "    </tr>\n",
       "    <tr>\n",
       "      <th>19</th>\n",
       "      <td>10</td>\n",
       "      <td>2395</td>\n",
       "    </tr>\n",
       "    <tr>\n",
       "      <th>20</th>\n",
       "      <td>6</td>\n",
       "      <td>1717</td>\n",
       "    </tr>\n",
       "    <tr>\n",
       "      <th>21</th>\n",
       "      <td>7</td>\n",
       "      <td>1547</td>\n",
       "    </tr>\n",
       "    <tr>\n",
       "      <th>22</th>\n",
       "      <td>8</td>\n",
       "      <td>1075</td>\n",
       "    </tr>\n",
       "    <tr>\n",
       "      <th>23</th>\n",
       "      <td>9</td>\n",
       "      <td>693</td>\n",
       "    </tr>\n",
       "  </tbody>\n",
       "</table>\n",
       "</div>"
      ],
      "text/plain": [
       "    hora  contagem\n",
       "0     16    387525\n",
       "1     17    223083\n",
       "2      4    189190\n",
       "3     15     78926\n",
       "4     13     61789\n",
       "5      3     57820\n",
       "6     19     56285\n",
       "7     18     51906\n",
       "8     14     50312\n",
       "9     20     49342\n",
       "10    22     45940\n",
       "11    23     37223\n",
       "12     5     35921\n",
       "13     1     34774\n",
       "14    21     33300\n",
       "15     0     22732\n",
       "16    12     20540\n",
       "17     2     12184\n",
       "18    11      6448\n",
       "19    10      2395\n",
       "20     6      1717\n",
       "21     7      1547\n",
       "22     8      1075\n",
       "23     9       693"
      ]
     },
     "execution_count": 14,
     "metadata": {},
     "output_type": "execute_result"
    }
   ],
   "source": [
    "horario.reset_index(inplace=True)\n",
    "horario"
   ]
  },
  {
   "cell_type": "code",
   "execution_count": 15,
   "id": "20d944b3",
   "metadata": {
    "ExecuteTime": {
     "end_time": "2023-03-06T15:29:31.000600Z",
     "start_time": "2023-03-06T15:29:30.231708Z"
    }
   },
   "outputs": [
    {
     "data": {
      "text/plain": [
       "<AxesSubplot:title={'center':'Focos por horário'}, xlabel='Horário', ylabel='Número de Focos'>"
      ]
     },
     "execution_count": 15,
     "metadata": {},
     "output_type": "execute_result"
    },
    {
     "data": {
      "image/png": "[encoded data removed]",
      "text/plain": [
       "<Figure size 432x288 with 1 Axes>"
      ]
     },
     "metadata": {
      "needs_background": "light"
     },
     "output_type": "display_data"
    }
   ],
   "source": [
    "fig= sns.lineplot(data=horario, x='hora', y='contagem')\n",
    "fig.set_xlabel(\"Horário\")\n",
    "fig.set_ylabel(\"Número de Focos\")\n",
    "fig.set(title='Focos por horário')\n",
    "\n",
    "\n",
    "fig"
   ]
  },
  {
   "cell_type": "code",
   "execution_count": 16,
   "id": "da50a77c",
   "metadata": {
    "ExecuteTime": {
     "end_time": "2023-03-06T15:29:31.061873Z",
     "start_time": "2023-03-06T15:29:31.000600Z"
    }
   },
   "outputs": [],
   "source": [
    "pormes = df_date.value_counts(['mes'], ascending=False)\n"
   ]
  },
  {
   "cell_type": "code",
   "execution_count": 17,
   "id": "56787d23",
   "metadata": {
    "ExecuteTime": {
     "end_time": "2023-03-06T15:29:31.141876Z",
     "start_time": "2023-03-06T15:29:31.064145Z"
    }
   },
   "outputs": [
    {
     "data": {
      "text/plain": [
       "pandas.core.series.Series"
      ]
     },
     "execution_count": 17,
     "metadata": {},
     "output_type": "execute_result"
    }
   ],
   "source": [
    "type(pormes)"
   ]
  },
  {
   "cell_type": "code",
   "execution_count": 18,
   "id": "2c73e3e5",
   "metadata": {
    "ExecuteTime": {
     "end_time": "2023-03-06T15:29:31.234167Z",
     "start_time": "2023-03-06T15:29:31.144829Z"
    }
   },
   "outputs": [],
   "source": [
    "pormes = pormes.to_frame(name='contagem')"
   ]
  },
  {
   "cell_type": "code",
   "execution_count": 19,
   "id": "b0ef3a70",
   "metadata": {
    "ExecuteTime": {
     "end_time": "2023-03-06T15:29:31.342863Z",
     "start_time": "2023-03-06T15:29:31.237164Z"
    }
   },
   "outputs": [],
   "source": [
    "pormes.reset_index(inplace=True)"
   ]
  },
  {
   "cell_type": "markdown",
   "id": "333b2f66",
   "metadata": {},
   "source": [
    "Aqui o gráfico que representa o numero de ocorrencias por mes, os meses de setembro e outrubro tem um aumento consideravel, \n",
    "mesmo em comparação com agosto, que é o mes com maior numero de ocorrências além deles. "
   ]
  },
  {
   "cell_type": "code",
   "execution_count": 20,
   "id": "3851ca04",
   "metadata": {
    "ExecuteTime": {
     "end_time": "2023-03-06T15:29:31.709334Z",
     "start_time": "2023-03-06T15:29:31.348851Z"
    }
   },
   "outputs": [
    {
     "data": {
      "text/plain": [
       "[Text(0.5, 1.0, 'Ocorrencia por mês')]"
      ]
     },
     "execution_count": 20,
     "metadata": {},
     "output_type": "execute_result"
    },
    {
     "data": {
      "image/png": "[encoded data removed]",
      "text/plain": [
       "<Figure size 432x288 with 1 Axes>"
      ]
     },
     "metadata": {
      "needs_background": "light"
     },
     "output_type": "display_data"
    }
   ],
   "source": [
    "fig2 = sns.barplot(data=pormes, x='mes', y='contagem')\n",
    "fig2.set_xlabel('Mês')\n",
    "fig2.set_ylabel('Número de Focos')\n",
    "fig2.set(title='Ocorrencia por mês')"
   ]
  },
  {
   "cell_type": "markdown",
   "id": "69d1f6fe",
   "metadata": {
    "ExecuteTime": {
     "end_time": "2023-03-06T15:40:53.964511Z",
     "start_time": "2023-03-06T15:40:53.947553Z"
    }
   },
   "source": [
    "### 2. Análise de área"
   ]
  },
  {
   "cell_type": "code",
   "execution_count": 22,
   "id": "cadc0c8e",
   "metadata": {
    "ExecuteTime": {
     "end_time": "2023-03-06T15:29:32.030156Z",
     "start_time": "2023-03-06T15:29:31.717311Z"
    }
   },
   "outputs": [],
   "source": [
    "df_estados = df.value_counts(['estado'])\n"
   ]
  },
  {
   "cell_type": "code",
   "execution_count": 23,
   "id": "60fad8a5",
   "metadata": {
    "ExecuteTime": {
     "end_time": "2023-03-06T15:29:32.095607Z",
     "start_time": "2023-03-06T15:29:32.032264Z"
    }
   },
   "outputs": [
    {
     "data": {
      "text/plain": [
       "<bound method NDFrame.head of estado            \n",
       "MARANHAO              363202\n",
       "TOCANTINS             322682\n",
       "MATO GROSSO           206291\n",
       "BAHIA                 163680\n",
       "PIAUI                 149079\n",
       "GOIAS                 123283\n",
       "MINAS GERAIS           86019\n",
       "MATO GROSSO DO SUL     24939\n",
       "SAO PAULO              17752\n",
       "DISTRITO FEDERAL        5741\n",
       "PARANA                   188\n",
       "RONDONIA                  45\n",
       "dtype: int64>"
      ]
     },
     "execution_count": 23,
     "metadata": {},
     "output_type": "execute_result"
    }
   ],
   "source": [
    "df_estados.head"
   ]
  },
  {
   "cell_type": "code",
   "execution_count": 24,
   "id": "a6321985",
   "metadata": {
    "ExecuteTime": {
     "end_time": "2023-03-06T15:29:32.385146Z",
     "start_time": "2023-03-06T15:29:32.098558Z"
    }
   },
   "outputs": [
    {
     "data": {
      "text/plain": [
       "municipio                 \n",
       "BALSAS                        26756\n",
       "MIRADOR                       22770\n",
       "PIUM                          20795\n",
       "ALTO PARNAIBA                 19539\n",
       "SAO DESIDERIO                 19294\n",
       "                              ...  \n",
       "PAULISTANIA                       1\n",
       "OLEO                              1\n",
       "NHANDEARA                         1\n",
       "ANGELICA                          1\n",
       "SAO SEBASTIAO DO RIO PRETO        1\n",
       "Length: 1319, dtype: int64"
      ]
     },
     "execution_count": 24,
     "metadata": {},
     "output_type": "execute_result"
    }
   ],
   "source": [
    "df_municipio = df.value_counts(['municipio'])\n",
    "df_municipio"
   ]
  },
  {
   "cell_type": "markdown",
   "id": "20e6e869",
   "metadata": {},
   "source": [
    "aqui estão os lideres de municipio e estado. como sera a relação dos dois? "
   ]
  },
  {
   "cell_type": "code",
   "execution_count": 25,
   "id": "5d3dd855",
   "metadata": {
    "ExecuteTime": {
     "end_time": "2023-03-06T15:29:32.417262Z",
     "start_time": "2023-03-06T15:29:32.387052Z"
    }
   },
   "outputs": [],
   "source": [
    "dflocais = df[['municipio', 'estado']]\n"
   ]
  },
  {
   "cell_type": "code",
   "execution_count": 26,
   "id": "1342b189",
   "metadata": {
    "ExecuteTime": {
     "end_time": "2023-03-06T15:29:32.857806Z",
     "start_time": "2023-03-06T15:29:32.418964Z"
    }
   },
   "outputs": [],
   "source": [
    "dflocaiscontag = dflocais.value_counts()"
   ]
  },
  {
   "cell_type": "code",
   "execution_count": 27,
   "id": "57dadc8d",
   "metadata": {
    "ExecuteTime": {
     "end_time": "2023-03-06T15:29:32.872792Z",
     "start_time": "2023-03-06T15:29:32.863818Z"
    }
   },
   "outputs": [],
   "source": [
    "dflocaiscontag = dflocaiscontag.sort_values(ascending=False)"
   ]
  },
  {
   "cell_type": "markdown",
   "id": "b505b0c9",
   "metadata": {},
   "source": [
    "Aqui a análise de municipios, o estado do maranhao que está em primeiro na contagem de estados também tem alguns dos 10 primeiros municipios com o maior numero de ocorrencias. "
   ]
  },
  {
   "cell_type": "code",
   "execution_count": 28,
   "id": "e5187622",
   "metadata": {
    "ExecuteTime": {
     "end_time": "2023-03-06T15:29:33.037105Z",
     "start_time": "2023-03-06T15:29:32.879773Z"
    }
   },
   "outputs": [
    {
     "data": {
      "text/plain": [
       "municipio                estado     \n",
       "BALSAS                   MARANHAO       26756\n",
       "MIRADOR                  MARANHAO       22770\n",
       "PIUM                     TOCANTINS      20795\n",
       "ALTO PARNAIBA            MARANHAO       19539\n",
       "SAO DESIDERIO            BAHIA          19294\n",
       "RIBEIRAO CASCALHEIRA     MATO GROSSO    17288\n",
       "FORMOSO DO ARAGUAIA      TOCANTINS      16918\n",
       "FORMOSA DO RIO PRETO     BAHIA          16012\n",
       "BAIXA GRANDE DO RIBEIRO  PIAUI          15113\n",
       "URUCUI                   PIAUI          15099\n",
       "dtype: int64"
      ]
     },
     "execution_count": 28,
     "metadata": {},
     "output_type": "execute_result"
    }
   ],
   "source": [
    "dflocaiscontag.head(10)"
   ]
  },
  {
   "cell_type": "markdown",
   "id": "12fae2b0",
   "metadata": {},
   "source": [
    "### 3. Análise de alguns fatores ambientais"
   ]
  },
  {
   "cell_type": "code",
   "execution_count": 29,
   "id": "fc188f35",
   "metadata": {
    "ExecuteTime": {
     "end_time": "2023-03-06T15:29:33.173707Z",
     "start_time": "2023-03-06T15:29:33.040081Z"
    }
   },
   "outputs": [
    {
     "data": {
      "text/html": [
       "<div>\n",
       "<style scoped>\n",
       "    .dataframe tbody tr th:only-of-type {\n",
       "        vertical-align: middle;\n",
       "    }\n",
       "\n",
       "    .dataframe tbody tr th {\n",
       "        vertical-align: top;\n",
       "    }\n",
       "\n",
       "    .dataframe thead th {\n",
       "        text-align: right;\n",
       "    }\n",
       "</style>\n",
       "<table border=\"1\" class=\"dataframe\">\n",
       "  <thead>\n",
       "    <tr style=\"text-align: right;\">\n",
       "      <th></th>\n",
       "      <th>datahora</th>\n",
       "      <th>satelite</th>\n",
       "      <th>pais</th>\n",
       "      <th>estado</th>\n",
       "      <th>municipio</th>\n",
       "      <th>bioma</th>\n",
       "      <th>diasemchuva</th>\n",
       "      <th>precipitacao</th>\n",
       "      <th>riscofogo</th>\n",
       "      <th>latitude</th>\n",
       "      <th>longitude</th>\n",
       "      <th>frp</th>\n",
       "    </tr>\n",
       "  </thead>\n",
       "  <tbody>\n",
       "    <tr>\n",
       "      <th>116418</th>\n",
       "      <td>2022/09/06 15:16:34</td>\n",
       "      <td>GOES-16</td>\n",
       "      <td>Brasil</td>\n",
       "      <td>MATO GROSSO</td>\n",
       "      <td>GENERAL CARNEIRO</td>\n",
       "      <td>Cerrado</td>\n",
       "      <td>NaN</td>\n",
       "      <td>NaN</td>\n",
       "      <td>NaN</td>\n",
       "      <td>-15.7070</td>\n",
       "      <td>-53.1325</td>\n",
       "      <td>119.3</td>\n",
       "    </tr>\n",
       "    <tr>\n",
       "      <th>116419</th>\n",
       "      <td>2022/09/06 15:16:06</td>\n",
       "      <td>GOES-16</td>\n",
       "      <td>Brasil</td>\n",
       "      <td>TOCANTINS</td>\n",
       "      <td>PONTE ALTA DO TOCANTINS</td>\n",
       "      <td>Cerrado</td>\n",
       "      <td>NaN</td>\n",
       "      <td>NaN</td>\n",
       "      <td>NaN</td>\n",
       "      <td>-10.6968</td>\n",
       "      <td>-47.4508</td>\n",
       "      <td>70.1</td>\n",
       "    </tr>\n",
       "    <tr>\n",
       "      <th>116420</th>\n",
       "      <td>2022/09/06 15:16:02</td>\n",
       "      <td>GOES-16</td>\n",
       "      <td>Brasil</td>\n",
       "      <td>MARANHAO</td>\n",
       "      <td>ALTO PARNAIBA</td>\n",
       "      <td>Cerrado</td>\n",
       "      <td>NaN</td>\n",
       "      <td>NaN</td>\n",
       "      <td>NaN</td>\n",
       "      <td>-9.9555</td>\n",
       "      <td>-46.2876</td>\n",
       "      <td>87.6</td>\n",
       "    </tr>\n",
       "    <tr>\n",
       "      <th>116421</th>\n",
       "      <td>2022/09/06 15:16:07</td>\n",
       "      <td>GOES-16</td>\n",
       "      <td>Brasil</td>\n",
       "      <td>TOCANTINS</td>\n",
       "      <td>PONTE ALTA DO TOCANTINS</td>\n",
       "      <td>Cerrado</td>\n",
       "      <td>NaN</td>\n",
       "      <td>NaN</td>\n",
       "      <td>NaN</td>\n",
       "      <td>-10.8096</td>\n",
       "      <td>-47.5259</td>\n",
       "      <td>67.5</td>\n",
       "    </tr>\n",
       "    <tr>\n",
       "      <th>116422</th>\n",
       "      <td>2022/09/06 15:16:33</td>\n",
       "      <td>GOES-16</td>\n",
       "      <td>Brasil</td>\n",
       "      <td>MATO GROSSO</td>\n",
       "      <td>POXOREU</td>\n",
       "      <td>Cerrado</td>\n",
       "      <td>NaN</td>\n",
       "      <td>NaN</td>\n",
       "      <td>NaN</td>\n",
       "      <td>-15.3654</td>\n",
       "      <td>-53.7887</td>\n",
       "      <td>104.9</td>\n",
       "    </tr>\n",
       "    <tr>\n",
       "      <th>...</th>\n",
       "      <td>...</td>\n",
       "      <td>...</td>\n",
       "      <td>...</td>\n",
       "      <td>...</td>\n",
       "      <td>...</td>\n",
       "      <td>...</td>\n",
       "      <td>...</td>\n",
       "      <td>...</td>\n",
       "      <td>...</td>\n",
       "      <td>...</td>\n",
       "      <td>...</td>\n",
       "      <td>...</td>\n",
       "    </tr>\n",
       "    <tr>\n",
       "      <th>1128196</th>\n",
       "      <td>2022/08/13 23:54:39</td>\n",
       "      <td>GOES-16</td>\n",
       "      <td>Brasil</td>\n",
       "      <td>MARANHAO</td>\n",
       "      <td>RIACHAO</td>\n",
       "      <td>Cerrado</td>\n",
       "      <td>NaN</td>\n",
       "      <td>NaN</td>\n",
       "      <td>NaN</td>\n",
       "      <td>-7.6900</td>\n",
       "      <td>-46.5200</td>\n",
       "      <td>NaN</td>\n",
       "    </tr>\n",
       "    <tr>\n",
       "      <th>1128197</th>\n",
       "      <td>2022/08/13 23:54:39</td>\n",
       "      <td>GOES-16</td>\n",
       "      <td>Brasil</td>\n",
       "      <td>MARANHAO</td>\n",
       "      <td>RIACHAO</td>\n",
       "      <td>Cerrado</td>\n",
       "      <td>NaN</td>\n",
       "      <td>NaN</td>\n",
       "      <td>NaN</td>\n",
       "      <td>-7.6800</td>\n",
       "      <td>-46.5400</td>\n",
       "      <td>NaN</td>\n",
       "    </tr>\n",
       "    <tr>\n",
       "      <th>1128198</th>\n",
       "      <td>2022/08/13 23:54:39</td>\n",
       "      <td>GOES-16</td>\n",
       "      <td>Brasil</td>\n",
       "      <td>MARANHAO</td>\n",
       "      <td>RIACHAO</td>\n",
       "      <td>Cerrado</td>\n",
       "      <td>NaN</td>\n",
       "      <td>NaN</td>\n",
       "      <td>NaN</td>\n",
       "      <td>-7.6700</td>\n",
       "      <td>-46.5600</td>\n",
       "      <td>NaN</td>\n",
       "    </tr>\n",
       "    <tr>\n",
       "      <th>1128199</th>\n",
       "      <td>2022/08/13 23:54:39</td>\n",
       "      <td>GOES-16</td>\n",
       "      <td>Brasil</td>\n",
       "      <td>MARANHAO</td>\n",
       "      <td>RIACHAO</td>\n",
       "      <td>Cerrado</td>\n",
       "      <td>NaN</td>\n",
       "      <td>NaN</td>\n",
       "      <td>NaN</td>\n",
       "      <td>-7.6500</td>\n",
       "      <td>-46.5200</td>\n",
       "      <td>NaN</td>\n",
       "    </tr>\n",
       "    <tr>\n",
       "      <th>1128200</th>\n",
       "      <td>2022/08/13 23:54:39</td>\n",
       "      <td>GOES-16</td>\n",
       "      <td>Brasil</td>\n",
       "      <td>MARANHAO</td>\n",
       "      <td>RIACHAO</td>\n",
       "      <td>Cerrado</td>\n",
       "      <td>NaN</td>\n",
       "      <td>NaN</td>\n",
       "      <td>NaN</td>\n",
       "      <td>-7.6500</td>\n",
       "      <td>-46.5400</td>\n",
       "      <td>NaN</td>\n",
       "    </tr>\n",
       "  </tbody>\n",
       "</table>\n",
       "<p>45082 rows × 12 columns</p>\n",
       "</div>"
      ],
      "text/plain": [
       "                    datahora satelite    pais       estado  \\\n",
       "116418   2022/09/06 15:16:34  GOES-16  Brasil  MATO GROSSO   \n",
       "116419   2022/09/06 15:16:06  GOES-16  Brasil    TOCANTINS   \n",
       "116420   2022/09/06 15:16:02  GOES-16  Brasil     MARANHAO   \n",
       "116421   2022/09/06 15:16:07  GOES-16  Brasil    TOCANTINS   \n",
       "116422   2022/09/06 15:16:33  GOES-16  Brasil  MATO GROSSO   \n",
       "...                      ...      ...     ...          ...   \n",
       "1128196  2022/08/13 23:54:39  GOES-16  Brasil     MARANHAO   \n",
       "1128197  2022/08/13 23:54:39  GOES-16  Brasil     MARANHAO   \n",
       "1128198  2022/08/13 23:54:39  GOES-16  Brasil     MARANHAO   \n",
       "1128199  2022/08/13 23:54:39  GOES-16  Brasil     MARANHAO   \n",
       "1128200  2022/08/13 23:54:39  GOES-16  Brasil     MARANHAO   \n",
       "\n",
       "                       municipio    bioma  diasemchuva  precipitacao  \\\n",
       "116418          GENERAL CARNEIRO  Cerrado          NaN           NaN   \n",
       "116419   PONTE ALTA DO TOCANTINS  Cerrado          NaN           NaN   \n",
       "116420             ALTO PARNAIBA  Cerrado          NaN           NaN   \n",
       "116421   PONTE ALTA DO TOCANTINS  Cerrado          NaN           NaN   \n",
       "116422                   POXOREU  Cerrado          NaN           NaN   \n",
       "...                          ...      ...          ...           ...   \n",
       "1128196                  RIACHAO  Cerrado          NaN           NaN   \n",
       "1128197                  RIACHAO  Cerrado          NaN           NaN   \n",
       "1128198                  RIACHAO  Cerrado          NaN           NaN   \n",
       "1128199                  RIACHAO  Cerrado          NaN           NaN   \n",
       "1128200                  RIACHAO  Cerrado          NaN           NaN   \n",
       "\n",
       "         riscofogo  latitude  longitude    frp  \n",
       "116418         NaN  -15.7070   -53.1325  119.3  \n",
       "116419         NaN  -10.6968   -47.4508   70.1  \n",
       "116420         NaN   -9.9555   -46.2876   87.6  \n",
       "116421         NaN  -10.8096   -47.5259   67.5  \n",
       "116422         NaN  -15.3654   -53.7887  104.9  \n",
       "...            ...       ...        ...    ...  \n",
       "1128196        NaN   -7.6900   -46.5200    NaN  \n",
       "1128197        NaN   -7.6800   -46.5400    NaN  \n",
       "1128198        NaN   -7.6700   -46.5600    NaN  \n",
       "1128199        NaN   -7.6500   -46.5200    NaN  \n",
       "1128200        NaN   -7.6500   -46.5400    NaN  \n",
       "\n",
       "[45082 rows x 12 columns]"
      ]
     },
     "execution_count": 29,
     "metadata": {},
     "output_type": "execute_result"
    }
   ],
   "source": [
    "df[df['diasemchuva'].isnull()]"
   ]
  },
  {
   "cell_type": "code",
   "execution_count": 30,
   "id": "e16aa0ef",
   "metadata": {
    "ExecuteTime": {
     "end_time": "2023-03-06T15:29:33.427737Z",
     "start_time": "2023-03-06T15:29:33.176659Z"
    }
   },
   "outputs": [],
   "source": [
    "#retirar valores que apresentam erro\n",
    "\n",
    "df.drop(df.query('diasemchuva == -999').index, inplace=True)"
   ]
  },
  {
   "cell_type": "code",
   "execution_count": 31,
   "id": "c6781c5e",
   "metadata": {
    "ExecuteTime": {
     "end_time": "2023-03-06T15:29:33.443031Z",
     "start_time": "2023-03-06T15:29:33.429739Z"
    }
   },
   "outputs": [
    {
     "name": "stdout",
     "output_type": "stream",
     "text": [
      "min 0.0\n",
      "max 359.0\n"
     ]
    }
   ],
   "source": [
    "print('min', df['diasemchuva'].min())\n",
    "print('max', df['diasemchuva'].max())"
   ]
  },
  {
   "cell_type": "code",
   "execution_count": 32,
   "id": "f6b6d362",
   "metadata": {
    "ExecuteTime": {
     "end_time": "2023-03-06T15:29:33.548287Z",
     "start_time": "2023-03-06T15:29:33.444697Z"
    }
   },
   "outputs": [
    {
     "name": "stdout",
     "output_type": "stream",
     "text": [
      "minrisco -999.0\n",
      "maxrisco 1.0\n"
     ]
    }
   ],
   "source": [
    "print('minrisco', df['riscofogo'].min())\n",
    "print('maxrisco', df['riscofogo'].max())"
   ]
  },
  {
   "cell_type": "code",
   "execution_count": 33,
   "id": "03e50da4",
   "metadata": {
    "ExecuteTime": {
     "end_time": "2023-03-06T15:29:33.705596Z",
     "start_time": "2023-03-06T15:29:33.552273Z"
    }
   },
   "outputs": [
    {
     "data": {
      "text/html": [
       "<div>\n",
       "<style scoped>\n",
       "    .dataframe tbody tr th:only-of-type {\n",
       "        vertical-align: middle;\n",
       "    }\n",
       "\n",
       "    .dataframe tbody tr th {\n",
       "        vertical-align: top;\n",
       "    }\n",
       "\n",
       "    .dataframe thead th {\n",
       "        text-align: right;\n",
       "    }\n",
       "</style>\n",
       "<table border=\"1\" class=\"dataframe\">\n",
       "  <thead>\n",
       "    <tr style=\"text-align: right;\">\n",
       "      <th></th>\n",
       "      <th>datahora</th>\n",
       "      <th>satelite</th>\n",
       "      <th>pais</th>\n",
       "      <th>estado</th>\n",
       "      <th>municipio</th>\n",
       "      <th>bioma</th>\n",
       "      <th>diasemchuva</th>\n",
       "      <th>precipitacao</th>\n",
       "      <th>riscofogo</th>\n",
       "      <th>latitude</th>\n",
       "      <th>longitude</th>\n",
       "      <th>frp</th>\n",
       "    </tr>\n",
       "  </thead>\n",
       "  <tbody>\n",
       "    <tr>\n",
       "      <th>188</th>\n",
       "      <td>2022/09/11 04:23:00</td>\n",
       "      <td>NOAA-20</td>\n",
       "      <td>Brasil</td>\n",
       "      <td>MINAS GERAIS</td>\n",
       "      <td>PASSOS</td>\n",
       "      <td>Cerrado</td>\n",
       "      <td>14.0</td>\n",
       "      <td>0.0</td>\n",
       "      <td>-999.0</td>\n",
       "      <td>-20.69250</td>\n",
       "      <td>-46.62272</td>\n",
       "      <td>0.4</td>\n",
       "    </tr>\n",
       "    <tr>\n",
       "      <th>208</th>\n",
       "      <td>2022/09/11 04:23:00</td>\n",
       "      <td>NOAA-20</td>\n",
       "      <td>Brasil</td>\n",
       "      <td>SAO PAULO</td>\n",
       "      <td>GUARA</td>\n",
       "      <td>Cerrado</td>\n",
       "      <td>5.0</td>\n",
       "      <td>0.0</td>\n",
       "      <td>-999.0</td>\n",
       "      <td>-20.44469</td>\n",
       "      <td>-47.84324</td>\n",
       "      <td>1.0</td>\n",
       "    </tr>\n",
       "    <tr>\n",
       "      <th>227</th>\n",
       "      <td>2022/09/11 04:23:00</td>\n",
       "      <td>NOAA-20</td>\n",
       "      <td>Brasil</td>\n",
       "      <td>SAO PAULO</td>\n",
       "      <td>SAO SIMAO</td>\n",
       "      <td>Cerrado</td>\n",
       "      <td>4.0</td>\n",
       "      <td>0.0</td>\n",
       "      <td>-999.0</td>\n",
       "      <td>-21.47584</td>\n",
       "      <td>-47.56092</td>\n",
       "      <td>0.5</td>\n",
       "    </tr>\n",
       "    <tr>\n",
       "      <th>350</th>\n",
       "      <td>2022/09/11 04:23:00</td>\n",
       "      <td>NOAA-20</td>\n",
       "      <td>Brasil</td>\n",
       "      <td>SAO PAULO</td>\n",
       "      <td>BATATAIS</td>\n",
       "      <td>Cerrado</td>\n",
       "      <td>3.0</td>\n",
       "      <td>0.0</td>\n",
       "      <td>-999.0</td>\n",
       "      <td>-20.90745</td>\n",
       "      <td>-47.57496</td>\n",
       "      <td>1.8</td>\n",
       "    </tr>\n",
       "    <tr>\n",
       "      <th>827</th>\n",
       "      <td>2022/09/11 04:21:00</td>\n",
       "      <td>NOAA-20</td>\n",
       "      <td>Brasil</td>\n",
       "      <td>MATO GROSSO</td>\n",
       "      <td>PARANATINGA</td>\n",
       "      <td>Cerrado</td>\n",
       "      <td>107.0</td>\n",
       "      <td>0.0</td>\n",
       "      <td>-999.0</td>\n",
       "      <td>-14.36400</td>\n",
       "      <td>-53.56885</td>\n",
       "      <td>12.3</td>\n",
       "    </tr>\n",
       "    <tr>\n",
       "      <th>...</th>\n",
       "      <td>...</td>\n",
       "      <td>...</td>\n",
       "      <td>...</td>\n",
       "      <td>...</td>\n",
       "      <td>...</td>\n",
       "      <td>...</td>\n",
       "      <td>...</td>\n",
       "      <td>...</td>\n",
       "      <td>...</td>\n",
       "      <td>...</td>\n",
       "      <td>...</td>\n",
       "      <td>...</td>\n",
       "    </tr>\n",
       "    <tr>\n",
       "      <th>1462258</th>\n",
       "      <td>2022/09/11 04:19:00</td>\n",
       "      <td>NOAA-20</td>\n",
       "      <td>Brasil</td>\n",
       "      <td>TOCANTINS</td>\n",
       "      <td>NOVO JARDIM</td>\n",
       "      <td>Cerrado</td>\n",
       "      <td>119.0</td>\n",
       "      <td>0.0</td>\n",
       "      <td>-999.0</td>\n",
       "      <td>-11.81797</td>\n",
       "      <td>-46.78116</td>\n",
       "      <td>1.3</td>\n",
       "    </tr>\n",
       "    <tr>\n",
       "      <th>1462442</th>\n",
       "      <td>2022/09/11 04:21:00</td>\n",
       "      <td>NOAA-20</td>\n",
       "      <td>Brasil</td>\n",
       "      <td>DISTRITO FEDERAL</td>\n",
       "      <td>BRASILIA</td>\n",
       "      <td>Cerrado</td>\n",
       "      <td>88.0</td>\n",
       "      <td>0.0</td>\n",
       "      <td>-999.0</td>\n",
       "      <td>-15.85961</td>\n",
       "      <td>-48.12550</td>\n",
       "      <td>0.7</td>\n",
       "    </tr>\n",
       "    <tr>\n",
       "      <th>1462477</th>\n",
       "      <td>2022/09/11 04:23:00</td>\n",
       "      <td>NOAA-20</td>\n",
       "      <td>Brasil</td>\n",
       "      <td>MINAS GERAIS</td>\n",
       "      <td>AGUA COMPRIDA</td>\n",
       "      <td>Cerrado</td>\n",
       "      <td>5.0</td>\n",
       "      <td>0.0</td>\n",
       "      <td>-999.0</td>\n",
       "      <td>-20.07973</td>\n",
       "      <td>-48.17558</td>\n",
       "      <td>4.0</td>\n",
       "    </tr>\n",
       "    <tr>\n",
       "      <th>1462482</th>\n",
       "      <td>2022/09/11 04:23:00</td>\n",
       "      <td>NOAA-20</td>\n",
       "      <td>Brasil</td>\n",
       "      <td>SAO PAULO</td>\n",
       "      <td>MACATUBA</td>\n",
       "      <td>Cerrado</td>\n",
       "      <td>4.0</td>\n",
       "      <td>0.0</td>\n",
       "      <td>-999.0</td>\n",
       "      <td>-22.54008</td>\n",
       "      <td>-48.81319</td>\n",
       "      <td>1.3</td>\n",
       "    </tr>\n",
       "    <tr>\n",
       "      <th>1462619</th>\n",
       "      <td>2022/09/11 04:21:00</td>\n",
       "      <td>NOAA-20</td>\n",
       "      <td>Brasil</td>\n",
       "      <td>GOIAS</td>\n",
       "      <td>BARRO ALTO</td>\n",
       "      <td>Cerrado</td>\n",
       "      <td>92.0</td>\n",
       "      <td>0.0</td>\n",
       "      <td>-999.0</td>\n",
       "      <td>-15.07720</td>\n",
       "      <td>-48.94688</td>\n",
       "      <td>1.8</td>\n",
       "    </tr>\n",
       "  </tbody>\n",
       "</table>\n",
       "<p>6641 rows × 12 columns</p>\n",
       "</div>"
      ],
      "text/plain": [
       "                    datahora satelite    pais            estado  \\\n",
       "188      2022/09/11 04:23:00  NOAA-20  Brasil      MINAS GERAIS   \n",
       "208      2022/09/11 04:23:00  NOAA-20  Brasil         SAO PAULO   \n",
       "227      2022/09/11 04:23:00  NOAA-20  Brasil         SAO PAULO   \n",
       "350      2022/09/11 04:23:00  NOAA-20  Brasil         SAO PAULO   \n",
       "827      2022/09/11 04:21:00  NOAA-20  Brasil       MATO GROSSO   \n",
       "...                      ...      ...     ...               ...   \n",
       "1462258  2022/09/11 04:19:00  NOAA-20  Brasil         TOCANTINS   \n",
       "1462442  2022/09/11 04:21:00  NOAA-20  Brasil  DISTRITO FEDERAL   \n",
       "1462477  2022/09/11 04:23:00  NOAA-20  Brasil      MINAS GERAIS   \n",
       "1462482  2022/09/11 04:23:00  NOAA-20  Brasil         SAO PAULO   \n",
       "1462619  2022/09/11 04:21:00  NOAA-20  Brasil             GOIAS   \n",
       "\n",
       "             municipio    bioma  diasemchuva  precipitacao  riscofogo  \\\n",
       "188             PASSOS  Cerrado         14.0           0.0     -999.0   \n",
       "208              GUARA  Cerrado          5.0           0.0     -999.0   \n",
       "227          SAO SIMAO  Cerrado          4.0           0.0     -999.0   \n",
       "350           BATATAIS  Cerrado          3.0           0.0     -999.0   \n",
       "827        PARANATINGA  Cerrado        107.0           0.0     -999.0   \n",
       "...                ...      ...          ...           ...        ...   \n",
       "1462258    NOVO JARDIM  Cerrado        119.0           0.0     -999.0   \n",
       "1462442       BRASILIA  Cerrado         88.0           0.0     -999.0   \n",
       "1462477  AGUA COMPRIDA  Cerrado          5.0           0.0     -999.0   \n",
       "1462482       MACATUBA  Cerrado          4.0           0.0     -999.0   \n",
       "1462619     BARRO ALTO  Cerrado         92.0           0.0     -999.0   \n",
       "\n",
       "         latitude  longitude   frp  \n",
       "188     -20.69250  -46.62272   0.4  \n",
       "208     -20.44469  -47.84324   1.0  \n",
       "227     -21.47584  -47.56092   0.5  \n",
       "350     -20.90745  -47.57496   1.8  \n",
       "827     -14.36400  -53.56885  12.3  \n",
       "...           ...        ...   ...  \n",
       "1462258 -11.81797  -46.78116   1.3  \n",
       "1462442 -15.85961  -48.12550   0.7  \n",
       "1462477 -20.07973  -48.17558   4.0  \n",
       "1462482 -22.54008  -48.81319   1.3  \n",
       "1462619 -15.07720  -48.94688   1.8  \n",
       "\n",
       "[6641 rows x 12 columns]"
      ]
     },
     "execution_count": 33,
     "metadata": {},
     "output_type": "execute_result"
    }
   ],
   "source": [
    "df.query('riscofogo == -999')"
   ]
  },
  {
   "cell_type": "code",
   "execution_count": 34,
   "id": "83b9932d",
   "metadata": {
    "ExecuteTime": {
     "end_time": "2023-03-06T15:29:34.155639Z",
     "start_time": "2023-03-06T15:29:33.706251Z"
    }
   },
   "outputs": [],
   "source": [
    "df.drop(df.query('riscofogo == -999').index, inplace=True)"
   ]
  },
  {
   "cell_type": "code",
   "execution_count": 35,
   "id": "3db4d024",
   "metadata": {
    "ExecuteTime": {
     "end_time": "2023-03-06T15:29:34.190835Z",
     "start_time": "2023-03-06T15:29:34.161630Z"
    }
   },
   "outputs": [
    {
     "name": "stdout",
     "output_type": "stream",
     "text": [
      "chuvamin 0.0\n",
      "chuvamax 126.33\n"
     ]
    }
   ],
   "source": [
    "print('chuvamin', df['precipitacao'].min())\n",
    "print('chuvamax', df['precipitacao'].max())"
   ]
  },
  {
   "cell_type": "code",
   "execution_count": 36,
   "id": "4f13da83",
   "metadata": {
    "ExecuteTime": {
     "end_time": "2023-03-06T15:29:34.481750Z",
     "start_time": "2023-03-06T15:29:34.192834Z"
    }
   },
   "outputs": [
    {
     "data": {
      "text/plain": [
       "723950     126.33\n",
       "657753     109.98\n",
       "158206     106.76\n",
       "158207     104.06\n",
       "635549     102.39\n",
       "            ...  \n",
       "1128196       NaN\n",
       "1128197       NaN\n",
       "1128198       NaN\n",
       "1128199       NaN\n",
       "1128200       NaN\n",
       "Name: precipitacao, Length: 1441793, dtype: float64"
      ]
     },
     "execution_count": 36,
     "metadata": {},
     "output_type": "execute_result"
    }
   ],
   "source": [
    "chuvas = df['precipitacao'].sort_values(ascending=False)\n",
    "chuvas"
   ]
  },
  {
   "cell_type": "code",
   "execution_count": 37,
   "id": "3dd6862f",
   "metadata": {
    "ExecuteTime": {
     "end_time": "2023-03-06T15:29:34.530883Z",
     "start_time": "2023-03-06T15:29:34.481750Z"
    }
   },
   "outputs": [
    {
     "data": {
      "text/html": [
       "<div>\n",
       "<style scoped>\n",
       "    .dataframe tbody tr th:only-of-type {\n",
       "        vertical-align: middle;\n",
       "    }\n",
       "\n",
       "    .dataframe tbody tr th {\n",
       "        vertical-align: top;\n",
       "    }\n",
       "\n",
       "    .dataframe thead th {\n",
       "        text-align: right;\n",
       "    }\n",
       "</style>\n",
       "<table border=\"1\" class=\"dataframe\">\n",
       "  <thead>\n",
       "    <tr style=\"text-align: right;\">\n",
       "      <th></th>\n",
       "      <th>datahora</th>\n",
       "      <th>satelite</th>\n",
       "      <th>pais</th>\n",
       "      <th>estado</th>\n",
       "      <th>municipio</th>\n",
       "      <th>bioma</th>\n",
       "      <th>diasemchuva</th>\n",
       "      <th>precipitacao</th>\n",
       "      <th>riscofogo</th>\n",
       "      <th>latitude</th>\n",
       "      <th>longitude</th>\n",
       "      <th>frp</th>\n",
       "    </tr>\n",
       "  </thead>\n",
       "  <tbody>\n",
       "    <tr>\n",
       "      <th>116418</th>\n",
       "      <td>2022/09/06 15:16:34</td>\n",
       "      <td>GOES-16</td>\n",
       "      <td>Brasil</td>\n",
       "      <td>MATO GROSSO</td>\n",
       "      <td>GENERAL CARNEIRO</td>\n",
       "      <td>Cerrado</td>\n",
       "      <td>NaN</td>\n",
       "      <td>NaN</td>\n",
       "      <td>NaN</td>\n",
       "      <td>-15.7070</td>\n",
       "      <td>-53.1325</td>\n",
       "      <td>119.3</td>\n",
       "    </tr>\n",
       "    <tr>\n",
       "      <th>116419</th>\n",
       "      <td>2022/09/06 15:16:06</td>\n",
       "      <td>GOES-16</td>\n",
       "      <td>Brasil</td>\n",
       "      <td>TOCANTINS</td>\n",
       "      <td>PONTE ALTA DO TOCANTINS</td>\n",
       "      <td>Cerrado</td>\n",
       "      <td>NaN</td>\n",
       "      <td>NaN</td>\n",
       "      <td>NaN</td>\n",
       "      <td>-10.6968</td>\n",
       "      <td>-47.4508</td>\n",
       "      <td>70.1</td>\n",
       "    </tr>\n",
       "    <tr>\n",
       "      <th>116420</th>\n",
       "      <td>2022/09/06 15:16:02</td>\n",
       "      <td>GOES-16</td>\n",
       "      <td>Brasil</td>\n",
       "      <td>MARANHAO</td>\n",
       "      <td>ALTO PARNAIBA</td>\n",
       "      <td>Cerrado</td>\n",
       "      <td>NaN</td>\n",
       "      <td>NaN</td>\n",
       "      <td>NaN</td>\n",
       "      <td>-9.9555</td>\n",
       "      <td>-46.2876</td>\n",
       "      <td>87.6</td>\n",
       "    </tr>\n",
       "    <tr>\n",
       "      <th>116421</th>\n",
       "      <td>2022/09/06 15:16:07</td>\n",
       "      <td>GOES-16</td>\n",
       "      <td>Brasil</td>\n",
       "      <td>TOCANTINS</td>\n",
       "      <td>PONTE ALTA DO TOCANTINS</td>\n",
       "      <td>Cerrado</td>\n",
       "      <td>NaN</td>\n",
       "      <td>NaN</td>\n",
       "      <td>NaN</td>\n",
       "      <td>-10.8096</td>\n",
       "      <td>-47.5259</td>\n",
       "      <td>67.5</td>\n",
       "    </tr>\n",
       "    <tr>\n",
       "      <th>116422</th>\n",
       "      <td>2022/09/06 15:16:33</td>\n",
       "      <td>GOES-16</td>\n",
       "      <td>Brasil</td>\n",
       "      <td>MATO GROSSO</td>\n",
       "      <td>POXOREU</td>\n",
       "      <td>Cerrado</td>\n",
       "      <td>NaN</td>\n",
       "      <td>NaN</td>\n",
       "      <td>NaN</td>\n",
       "      <td>-15.3654</td>\n",
       "      <td>-53.7887</td>\n",
       "      <td>104.9</td>\n",
       "    </tr>\n",
       "    <tr>\n",
       "      <th>...</th>\n",
       "      <td>...</td>\n",
       "      <td>...</td>\n",
       "      <td>...</td>\n",
       "      <td>...</td>\n",
       "      <td>...</td>\n",
       "      <td>...</td>\n",
       "      <td>...</td>\n",
       "      <td>...</td>\n",
       "      <td>...</td>\n",
       "      <td>...</td>\n",
       "      <td>...</td>\n",
       "      <td>...</td>\n",
       "    </tr>\n",
       "    <tr>\n",
       "      <th>1128196</th>\n",
       "      <td>2022/08/13 23:54:39</td>\n",
       "      <td>GOES-16</td>\n",
       "      <td>Brasil</td>\n",
       "      <td>MARANHAO</td>\n",
       "      <td>RIACHAO</td>\n",
       "      <td>Cerrado</td>\n",
       "      <td>NaN</td>\n",
       "      <td>NaN</td>\n",
       "      <td>NaN</td>\n",
       "      <td>-7.6900</td>\n",
       "      <td>-46.5200</td>\n",
       "      <td>NaN</td>\n",
       "    </tr>\n",
       "    <tr>\n",
       "      <th>1128197</th>\n",
       "      <td>2022/08/13 23:54:39</td>\n",
       "      <td>GOES-16</td>\n",
       "      <td>Brasil</td>\n",
       "      <td>MARANHAO</td>\n",
       "      <td>RIACHAO</td>\n",
       "      <td>Cerrado</td>\n",
       "      <td>NaN</td>\n",
       "      <td>NaN</td>\n",
       "      <td>NaN</td>\n",
       "      <td>-7.6800</td>\n",
       "      <td>-46.5400</td>\n",
       "      <td>NaN</td>\n",
       "    </tr>\n",
       "    <tr>\n",
       "      <th>1128198</th>\n",
       "      <td>2022/08/13 23:54:39</td>\n",
       "      <td>GOES-16</td>\n",
       "      <td>Brasil</td>\n",
       "      <td>MARANHAO</td>\n",
       "      <td>RIACHAO</td>\n",
       "      <td>Cerrado</td>\n",
       "      <td>NaN</td>\n",
       "      <td>NaN</td>\n",
       "      <td>NaN</td>\n",
       "      <td>-7.6700</td>\n",
       "      <td>-46.5600</td>\n",
       "      <td>NaN</td>\n",
       "    </tr>\n",
       "    <tr>\n",
       "      <th>1128199</th>\n",
       "      <td>2022/08/13 23:54:39</td>\n",
       "      <td>GOES-16</td>\n",
       "      <td>Brasil</td>\n",
       "      <td>MARANHAO</td>\n",
       "      <td>RIACHAO</td>\n",
       "      <td>Cerrado</td>\n",
       "      <td>NaN</td>\n",
       "      <td>NaN</td>\n",
       "      <td>NaN</td>\n",
       "      <td>-7.6500</td>\n",
       "      <td>-46.5200</td>\n",
       "      <td>NaN</td>\n",
       "    </tr>\n",
       "    <tr>\n",
       "      <th>1128200</th>\n",
       "      <td>2022/08/13 23:54:39</td>\n",
       "      <td>GOES-16</td>\n",
       "      <td>Brasil</td>\n",
       "      <td>MARANHAO</td>\n",
       "      <td>RIACHAO</td>\n",
       "      <td>Cerrado</td>\n",
       "      <td>NaN</td>\n",
       "      <td>NaN</td>\n",
       "      <td>NaN</td>\n",
       "      <td>-7.6500</td>\n",
       "      <td>-46.5400</td>\n",
       "      <td>NaN</td>\n",
       "    </tr>\n",
       "  </tbody>\n",
       "</table>\n",
       "<p>45082 rows × 12 columns</p>\n",
       "</div>"
      ],
      "text/plain": [
       "                    datahora satelite    pais       estado  \\\n",
       "116418   2022/09/06 15:16:34  GOES-16  Brasil  MATO GROSSO   \n",
       "116419   2022/09/06 15:16:06  GOES-16  Brasil    TOCANTINS   \n",
       "116420   2022/09/06 15:16:02  GOES-16  Brasil     MARANHAO   \n",
       "116421   2022/09/06 15:16:07  GOES-16  Brasil    TOCANTINS   \n",
       "116422   2022/09/06 15:16:33  GOES-16  Brasil  MATO GROSSO   \n",
       "...                      ...      ...     ...          ...   \n",
       "1128196  2022/08/13 23:54:39  GOES-16  Brasil     MARANHAO   \n",
       "1128197  2022/08/13 23:54:39  GOES-16  Brasil     MARANHAO   \n",
       "1128198  2022/08/13 23:54:39  GOES-16  Brasil     MARANHAO   \n",
       "1128199  2022/08/13 23:54:39  GOES-16  Brasil     MARANHAO   \n",
       "1128200  2022/08/13 23:54:39  GOES-16  Brasil     MARANHAO   \n",
       "\n",
       "                       municipio    bioma  diasemchuva  precipitacao  \\\n",
       "116418          GENERAL CARNEIRO  Cerrado          NaN           NaN   \n",
       "116419   PONTE ALTA DO TOCANTINS  Cerrado          NaN           NaN   \n",
       "116420             ALTO PARNAIBA  Cerrado          NaN           NaN   \n",
       "116421   PONTE ALTA DO TOCANTINS  Cerrado          NaN           NaN   \n",
       "116422                   POXOREU  Cerrado          NaN           NaN   \n",
       "...                          ...      ...          ...           ...   \n",
       "1128196                  RIACHAO  Cerrado          NaN           NaN   \n",
       "1128197                  RIACHAO  Cerrado          NaN           NaN   \n",
       "1128198                  RIACHAO  Cerrado          NaN           NaN   \n",
       "1128199                  RIACHAO  Cerrado          NaN           NaN   \n",
       "1128200                  RIACHAO  Cerrado          NaN           NaN   \n",
       "\n",
       "         riscofogo  latitude  longitude    frp  \n",
       "116418         NaN  -15.7070   -53.1325  119.3  \n",
       "116419         NaN  -10.6968   -47.4508   70.1  \n",
       "116420         NaN   -9.9555   -46.2876   87.6  \n",
       "116421         NaN  -10.8096   -47.5259   67.5  \n",
       "116422         NaN  -15.3654   -53.7887  104.9  \n",
       "...            ...       ...        ...    ...  \n",
       "1128196        NaN   -7.6900   -46.5200    NaN  \n",
       "1128197        NaN   -7.6800   -46.5400    NaN  \n",
       "1128198        NaN   -7.6700   -46.5600    NaN  \n",
       "1128199        NaN   -7.6500   -46.5200    NaN  \n",
       "1128200        NaN   -7.6500   -46.5400    NaN  \n",
       "\n",
       "[45082 rows x 12 columns]"
      ]
     },
     "execution_count": 37,
     "metadata": {},
     "output_type": "execute_result"
    }
   ],
   "source": [
    "df[df['precipitacao'].isnull()]"
   ]
  },
  {
   "cell_type": "markdown",
   "id": "ce85d4f5",
   "metadata": {},
   "source": [
    "Aqui temos algumas correlações legais, a correlação de dias sem chuva e precipitação mostram uma correlação extremamente forte negativamente, o que faz todo sentido, pois quando uma cresce a outra diminui. \n",
    "\n",
    "Um fato interessante é que dias sem chuva e precipitação não apresentam correlações fortes com o risco de fogo, esse risco de fogo pode estar atrelado a outros fatores que não são colocados nos dados atuais. \n",
    "\n",
    "A relação do espaço, áreas protegidas ou áreas privadas pode alterar significativamente essa correlação, podendo ser descoberta utilizando outros dados, como o cadastro ambiental rural e cruzando algumas localizações exatas. "
   ]
  },
  {
   "cell_type": "code",
   "execution_count": 38,
   "id": "82dc65e7",
   "metadata": {
    "ExecuteTime": {
     "end_time": "2023-03-06T15:29:34.750362Z",
     "start_time": "2023-03-06T15:29:34.533875Z"
    }
   },
   "outputs": [
    {
     "data": {
      "text/html": [
       "<div>\n",
       "<style scoped>\n",
       "    .dataframe tbody tr th:only-of-type {\n",
       "        vertical-align: middle;\n",
       "    }\n",
       "\n",
       "    .dataframe tbody tr th {\n",
       "        vertical-align: top;\n",
       "    }\n",
       "\n",
       "    .dataframe thead th {\n",
       "        text-align: right;\n",
       "    }\n",
       "</style>\n",
       "<table border=\"1\" class=\"dataframe\">\n",
       "  <thead>\n",
       "    <tr style=\"text-align: right;\">\n",
       "      <th></th>\n",
       "      <th>diasemchuva</th>\n",
       "      <th>precipitacao</th>\n",
       "    </tr>\n",
       "  </thead>\n",
       "  <tbody>\n",
       "    <tr>\n",
       "      <th>diasemchuva</th>\n",
       "      <td>1.000000</td>\n",
       "      <td>-0.099182</td>\n",
       "    </tr>\n",
       "    <tr>\n",
       "      <th>precipitacao</th>\n",
       "      <td>-0.099182</td>\n",
       "      <td>1.000000</td>\n",
       "    </tr>\n",
       "  </tbody>\n",
       "</table>\n",
       "</div>"
      ],
      "text/plain": [
       "              diasemchuva  precipitacao\n",
       "diasemchuva      1.000000     -0.099182\n",
       "precipitacao    -0.099182      1.000000"
      ]
     },
     "execution_count": 38,
     "metadata": {},
     "output_type": "execute_result"
    }
   ],
   "source": [
    "df[['diasemchuva', 'precipitacao']].corr()"
   ]
  },
  {
   "cell_type": "code",
   "execution_count": 39,
   "id": "aefb4faf",
   "metadata": {
    "ExecuteTime": {
     "end_time": "2023-03-06T15:29:34.858458Z",
     "start_time": "2023-03-06T15:29:34.750362Z"
    }
   },
   "outputs": [
    {
     "data": {
      "text/html": [
       "<div>\n",
       "<style scoped>\n",
       "    .dataframe tbody tr th:only-of-type {\n",
       "        vertical-align: middle;\n",
       "    }\n",
       "\n",
       "    .dataframe tbody tr th {\n",
       "        vertical-align: top;\n",
       "    }\n",
       "\n",
       "    .dataframe thead th {\n",
       "        text-align: right;\n",
       "    }\n",
       "</style>\n",
       "<table border=\"1\" class=\"dataframe\">\n",
       "  <thead>\n",
       "    <tr style=\"text-align: right;\">\n",
       "      <th></th>\n",
       "      <th>diasemchuva</th>\n",
       "      <th>riscofogo</th>\n",
       "    </tr>\n",
       "  </thead>\n",
       "  <tbody>\n",
       "    <tr>\n",
       "      <th>diasemchuva</th>\n",
       "      <td>1.000000</td>\n",
       "      <td>0.348012</td>\n",
       "    </tr>\n",
       "    <tr>\n",
       "      <th>riscofogo</th>\n",
       "      <td>0.348012</td>\n",
       "      <td>1.000000</td>\n",
       "    </tr>\n",
       "  </tbody>\n",
       "</table>\n",
       "</div>"
      ],
      "text/plain": [
       "             diasemchuva  riscofogo\n",
       "diasemchuva     1.000000   0.348012\n",
       "riscofogo       0.348012   1.000000"
      ]
     },
     "execution_count": 39,
     "metadata": {},
     "output_type": "execute_result"
    }
   ],
   "source": [
    "df[['diasemchuva', 'riscofogo']].corr()"
   ]
  },
  {
   "cell_type": "code",
   "execution_count": 40,
   "id": "1e95fa5a",
   "metadata": {
    "ExecuteTime": {
     "end_time": "2023-03-06T15:29:34.962541Z",
     "start_time": "2023-03-06T15:29:34.860458Z"
    }
   },
   "outputs": [
    {
     "data": {
      "text/html": [
       "<div>\n",
       "<style scoped>\n",
       "    .dataframe tbody tr th:only-of-type {\n",
       "        vertical-align: middle;\n",
       "    }\n",
       "\n",
       "    .dataframe tbody tr th {\n",
       "        vertical-align: top;\n",
       "    }\n",
       "\n",
       "    .dataframe thead th {\n",
       "        text-align: right;\n",
       "    }\n",
       "</style>\n",
       "<table border=\"1\" class=\"dataframe\">\n",
       "  <thead>\n",
       "    <tr style=\"text-align: right;\">\n",
       "      <th></th>\n",
       "      <th>precipitacao</th>\n",
       "      <th>riscofogo</th>\n",
       "    </tr>\n",
       "  </thead>\n",
       "  <tbody>\n",
       "    <tr>\n",
       "      <th>precipitacao</th>\n",
       "      <td>1.000000</td>\n",
       "      <td>-0.396814</td>\n",
       "    </tr>\n",
       "    <tr>\n",
       "      <th>riscofogo</th>\n",
       "      <td>-0.396814</td>\n",
       "      <td>1.000000</td>\n",
       "    </tr>\n",
       "  </tbody>\n",
       "</table>\n",
       "</div>"
      ],
      "text/plain": [
       "              precipitacao  riscofogo\n",
       "precipitacao      1.000000  -0.396814\n",
       "riscofogo        -0.396814   1.000000"
      ]
     },
     "execution_count": 40,
     "metadata": {},
     "output_type": "execute_result"
    }
   ],
   "source": [
    "df[['precipitacao', 'riscofogo']].corr()"
   ]
  }
 ],
 "metadata": {
  "kernelspec": {
   "display_name": "Python 3 (ipykernel)",
   "language": "python",
   "name": "python3"
  },
  "language_info": {
   "codemirror_mode": {
    "name": "ipython",
    "version": 3
   },
   "file_extension": ".py",
   "mimetype": "text/x-python",
   "name": "python",
   "nbconvert_exporter": "python",
   "pygments_lexer": "ipython3",
   "version": "3.9.7"
  }
 },
 "nbformat": 4,
 "nbformat_minor": 5
}
